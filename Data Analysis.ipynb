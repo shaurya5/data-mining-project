{
  "nbformat": 4,
  "nbformat_minor": 0,
  "metadata": {
    "colab": {
      "provenance": []
    },
    "kernelspec": {
      "name": "python3",
      "display_name": "Python 3"
    },
    "language_info": {
      "name": "python"
    }
  },
  "cells": [
    {
      "cell_type": "markdown",
      "source": [
        "\n",
        "# <font size=8> Trends in Contraception Awareness and Child Health : Analysis of DHFS Data </font>\n",
        "\n",
        "Team Details (Group 6)\n",
        "\n",
        "\n",
        "*   Akshat Johar - 2020A3PS1793H\n",
        "*   Shaurya Garg - 2020A8PS2215H\n",
        "*   Saksham Bansal - 2020A3PS2129H\n",
        "\n",
        "\n",
        "\n",
        "\n",
        "\n"
      ],
      "metadata": {
        "id": "baoqnhu8j1Ms"
      }
    },
    {
      "cell_type": "markdown",
      "source": [
        "# <font size=7> Data Analysis </font>"
      ],
      "metadata": {
        "id": "-37q54s-j5ge"
      }
    },
    {
      "cell_type": "code",
      "source": [
        "import pandas as pd\n",
        "import numpy as np\n",
        "import matplotlib.pyplot as plt\n",
        "import math\n",
        "from matplotlib import rc\n",
        "df = pd.read_csv('working_dataset.csv')"
      ],
      "metadata": {
        "id": "iK32WNJMlLsK"
      },
      "execution_count": null,
      "outputs": []
    },
    {
      "cell_type": "code",
      "source": [
        "# dividing columns into two lists based on the two problem statements\n",
        "attributes_contraception = ['State','Place Of Residence','Highest Education Level','Wealth Index Combined','Total Children Born','Age of Respondant at first birth','Marriage to first birth interval','Current Contraceptive Method','Reason Of Last Discontinuation','Heard about family planning','Husbands Education Level','Zone']\n",
        "attributes_child_health = ['State','Place Of Residence','Highest Education Level','Wealth Index Combined','Total Children Born','Size of Child at Birth','Drink Alcohol','Smokes','Anemia Level','Ever had a terminated pregnancy','Age of Respondant at first birth','Heard about family planning','Zone']"
      ],
      "metadata": {
        "id": "4Bn2NbS_Re5H"
      },
      "execution_count": null,
      "outputs": []
    },
    {
      "cell_type": "code",
      "source": [
        "# assigning new columns to the original dataset\n",
        "new_column_names=['Household Number','State','Place Of Residence','Highest Education Level','Wealth Index Combined','Total Children Born','Age of Respondant at first birth',\n",
        "                  'Marriage to first birth interval','Ever had a terminated pregnancy','Current Contraceptive Method','Reason Of Last Discontinuation',\n",
        "                  'Heard about family planning','Anemia Level', 'Smokes','Husbands Education Level','Size of Child at Birth','Drink Alcohol','Zone']"
      ],
      "metadata": {
        "id": "McRy1EqQjIz6"
      },
      "execution_count": null,
      "outputs": []
    },
    {
      "cell_type": "code",
      "source": [
        "df.columns = new_column_names\n",
        "df.head(10)"
      ],
      "metadata": {
        "colab": {
          "base_uri": "https://localhost:8080/",
          "height": 661
        },
        "id": "U0JrrUnyjK4f",
        "outputId": "736484d6-feb1-4f72-c75e-a553779fce90"
      },
      "execution_count": null,
      "outputs": [
        {
          "output_type": "execute_result",
          "data": {
            "text/plain": [
              "   Household Number  State  Place Of Residence  Highest Education Level  \\\n",
              "0                54      1                   2                        2   \n",
              "1                48      1                   2                        2   \n",
              "2                77      1                   2                        2   \n",
              "3                98      1                   2                        2   \n",
              "4                26      1                   2                        2   \n",
              "5                28      1                   2                        3   \n",
              "6                24      1                   2                        2   \n",
              "7                71      1                   2                        1   \n",
              "8                72      1                   2                        0   \n",
              "9                 8      1                   2                        0   \n",
              "\n",
              "   Wealth Index Combined  Total Children Born  \\\n",
              "0                   0.75                    2   \n",
              "1                   0.25                    1   \n",
              "2                   0.75                    2   \n",
              "3                   0.75                    2   \n",
              "4                   0.50                    2   \n",
              "5                   1.00                    2   \n",
              "6                   0.75                    2   \n",
              "7                   0.25                    3   \n",
              "8                   0.25                    4   \n",
              "9                   0.75                    4   \n",
              "\n",
              "   Age of Respondant at first birth  Marriage to first birth interval  \\\n",
              "0                                26                                25   \n",
              "1                                22                                12   \n",
              "2                                19                                24   \n",
              "3                                29                                12   \n",
              "4                                29                                12   \n",
              "5                                22                                20   \n",
              "6                                23                                11   \n",
              "7                                21                                18   \n",
              "8                                21                                21   \n",
              "9                                24                                51   \n",
              "\n",
              "   Ever had a terminated pregnancy  Current Contraceptive Method  \\\n",
              "0                                0                             5   \n",
              "1                                0                             0   \n",
              "2                                0                             0   \n",
              "3                                0                             6   \n",
              "4                                0                             0   \n",
              "5                                0                             5   \n",
              "6                                0                             1   \n",
              "7                                0                             1   \n",
              "8                                0                             0   \n",
              "9                                0                             9   \n",
              "\n",
              "   Reason Of Last Discontinuation  Heard about family planning  Anemia Level  \\\n",
              "0                               2                            1             3   \n",
              "1                              14                            1             1   \n",
              "2                               9                            0             2   \n",
              "3                               2                            0             4   \n",
              "4                              10                            1             4   \n",
              "5                               3                            1             4   \n",
              "6                              10                            1             3   \n",
              "7                               9                            1             3   \n",
              "8                               2                            0             3   \n",
              "9                               2                            0             1   \n",
              "\n",
              "   Smokes  Husbands Education Level  Size of Child at Birth  Drink Alcohol  \\\n",
              "0       0                         2                     0.0              0   \n",
              "1       0                         2                     0.5              0   \n",
              "2       0                         2                     0.5              0   \n",
              "3       0                         2                     0.5              0   \n",
              "4       0                         2                     0.5              0   \n",
              "5       0                         3                     0.5              0   \n",
              "6       0                         2                     0.5              0   \n",
              "7       0                         2                     0.5              0   \n",
              "8       0                         2                     0.5              0   \n",
              "9       0                         0                     0.5              0   \n",
              "\n",
              "            Zone  \n",
              "0  Northern Zone  \n",
              "1  Northern Zone  \n",
              "2  Northern Zone  \n",
              "3  Northern Zone  \n",
              "4  Northern Zone  \n",
              "5  Northern Zone  \n",
              "6  Northern Zone  \n",
              "7  Northern Zone  \n",
              "8  Northern Zone  \n",
              "9  Northern Zone  "
            ],
            "text/html": [
              "\n",
              "  <div id=\"df-17c82894-a636-4b40-b9d4-a44e06839a13\">\n",
              "    <div class=\"colab-df-container\">\n",
              "      <div>\n",
              "<style scoped>\n",
              "    .dataframe tbody tr th:only-of-type {\n",
              "        vertical-align: middle;\n",
              "    }\n",
              "\n",
              "    .dataframe tbody tr th {\n",
              "        vertical-align: top;\n",
              "    }\n",
              "\n",
              "    .dataframe thead th {\n",
              "        text-align: right;\n",
              "    }\n",
              "</style>\n",
              "<table border=\"1\" class=\"dataframe\">\n",
              "  <thead>\n",
              "    <tr style=\"text-align: right;\">\n",
              "      <th></th>\n",
              "      <th>Household Number</th>\n",
              "      <th>State</th>\n",
              "      <th>Place Of Residence</th>\n",
              "      <th>Highest Education Level</th>\n",
              "      <th>Wealth Index Combined</th>\n",
              "      <th>Total Children Born</th>\n",
              "      <th>Age of Respondant at first birth</th>\n",
              "      <th>Marriage to first birth interval</th>\n",
              "      <th>Ever had a terminated pregnancy</th>\n",
              "      <th>Current Contraceptive Method</th>\n",
              "      <th>Reason Of Last Discontinuation</th>\n",
              "      <th>Heard about family planning</th>\n",
              "      <th>Anemia Level</th>\n",
              "      <th>Smokes</th>\n",
              "      <th>Husbands Education Level</th>\n",
              "      <th>Size of Child at Birth</th>\n",
              "      <th>Drink Alcohol</th>\n",
              "      <th>Zone</th>\n",
              "    </tr>\n",
              "  </thead>\n",
              "  <tbody>\n",
              "    <tr>\n",
              "      <th>0</th>\n",
              "      <td>54</td>\n",
              "      <td>1</td>\n",
              "      <td>2</td>\n",
              "      <td>2</td>\n",
              "      <td>0.75</td>\n",
              "      <td>2</td>\n",
              "      <td>26</td>\n",
              "      <td>25</td>\n",
              "      <td>0</td>\n",
              "      <td>5</td>\n",
              "      <td>2</td>\n",
              "      <td>1</td>\n",
              "      <td>3</td>\n",
              "      <td>0</td>\n",
              "      <td>2</td>\n",
              "      <td>0.0</td>\n",
              "      <td>0</td>\n",
              "      <td>Northern Zone</td>\n",
              "    </tr>\n",
              "    <tr>\n",
              "      <th>1</th>\n",
              "      <td>48</td>\n",
              "      <td>1</td>\n",
              "      <td>2</td>\n",
              "      <td>2</td>\n",
              "      <td>0.25</td>\n",
              "      <td>1</td>\n",
              "      <td>22</td>\n",
              "      <td>12</td>\n",
              "      <td>0</td>\n",
              "      <td>0</td>\n",
              "      <td>14</td>\n",
              "      <td>1</td>\n",
              "      <td>1</td>\n",
              "      <td>0</td>\n",
              "      <td>2</td>\n",
              "      <td>0.5</td>\n",
              "      <td>0</td>\n",
              "      <td>Northern Zone</td>\n",
              "    </tr>\n",
              "    <tr>\n",
              "      <th>2</th>\n",
              "      <td>77</td>\n",
              "      <td>1</td>\n",
              "      <td>2</td>\n",
              "      <td>2</td>\n",
              "      <td>0.75</td>\n",
              "      <td>2</td>\n",
              "      <td>19</td>\n",
              "      <td>24</td>\n",
              "      <td>0</td>\n",
              "      <td>0</td>\n",
              "      <td>9</td>\n",
              "      <td>0</td>\n",
              "      <td>2</td>\n",
              "      <td>0</td>\n",
              "      <td>2</td>\n",
              "      <td>0.5</td>\n",
              "      <td>0</td>\n",
              "      <td>Northern Zone</td>\n",
              "    </tr>\n",
              "    <tr>\n",
              "      <th>3</th>\n",
              "      <td>98</td>\n",
              "      <td>1</td>\n",
              "      <td>2</td>\n",
              "      <td>2</td>\n",
              "      <td>0.75</td>\n",
              "      <td>2</td>\n",
              "      <td>29</td>\n",
              "      <td>12</td>\n",
              "      <td>0</td>\n",
              "      <td>6</td>\n",
              "      <td>2</td>\n",
              "      <td>0</td>\n",
              "      <td>4</td>\n",
              "      <td>0</td>\n",
              "      <td>2</td>\n",
              "      <td>0.5</td>\n",
              "      <td>0</td>\n",
              "      <td>Northern Zone</td>\n",
              "    </tr>\n",
              "    <tr>\n",
              "      <th>4</th>\n",
              "      <td>26</td>\n",
              "      <td>1</td>\n",
              "      <td>2</td>\n",
              "      <td>2</td>\n",
              "      <td>0.50</td>\n",
              "      <td>2</td>\n",
              "      <td>29</td>\n",
              "      <td>12</td>\n",
              "      <td>0</td>\n",
              "      <td>0</td>\n",
              "      <td>10</td>\n",
              "      <td>1</td>\n",
              "      <td>4</td>\n",
              "      <td>0</td>\n",
              "      <td>2</td>\n",
              "      <td>0.5</td>\n",
              "      <td>0</td>\n",
              "      <td>Northern Zone</td>\n",
              "    </tr>\n",
              "    <tr>\n",
              "      <th>5</th>\n",
              "      <td>28</td>\n",
              "      <td>1</td>\n",
              "      <td>2</td>\n",
              "      <td>3</td>\n",
              "      <td>1.00</td>\n",
              "      <td>2</td>\n",
              "      <td>22</td>\n",
              "      <td>20</td>\n",
              "      <td>0</td>\n",
              "      <td>5</td>\n",
              "      <td>3</td>\n",
              "      <td>1</td>\n",
              "      <td>4</td>\n",
              "      <td>0</td>\n",
              "      <td>3</td>\n",
              "      <td>0.5</td>\n",
              "      <td>0</td>\n",
              "      <td>Northern Zone</td>\n",
              "    </tr>\n",
              "    <tr>\n",
              "      <th>6</th>\n",
              "      <td>24</td>\n",
              "      <td>1</td>\n",
              "      <td>2</td>\n",
              "      <td>2</td>\n",
              "      <td>0.75</td>\n",
              "      <td>2</td>\n",
              "      <td>23</td>\n",
              "      <td>11</td>\n",
              "      <td>0</td>\n",
              "      <td>1</td>\n",
              "      <td>10</td>\n",
              "      <td>1</td>\n",
              "      <td>3</td>\n",
              "      <td>0</td>\n",
              "      <td>2</td>\n",
              "      <td>0.5</td>\n",
              "      <td>0</td>\n",
              "      <td>Northern Zone</td>\n",
              "    </tr>\n",
              "    <tr>\n",
              "      <th>7</th>\n",
              "      <td>71</td>\n",
              "      <td>1</td>\n",
              "      <td>2</td>\n",
              "      <td>1</td>\n",
              "      <td>0.25</td>\n",
              "      <td>3</td>\n",
              "      <td>21</td>\n",
              "      <td>18</td>\n",
              "      <td>0</td>\n",
              "      <td>1</td>\n",
              "      <td>9</td>\n",
              "      <td>1</td>\n",
              "      <td>3</td>\n",
              "      <td>0</td>\n",
              "      <td>2</td>\n",
              "      <td>0.5</td>\n",
              "      <td>0</td>\n",
              "      <td>Northern Zone</td>\n",
              "    </tr>\n",
              "    <tr>\n",
              "      <th>8</th>\n",
              "      <td>72</td>\n",
              "      <td>1</td>\n",
              "      <td>2</td>\n",
              "      <td>0</td>\n",
              "      <td>0.25</td>\n",
              "      <td>4</td>\n",
              "      <td>21</td>\n",
              "      <td>21</td>\n",
              "      <td>0</td>\n",
              "      <td>0</td>\n",
              "      <td>2</td>\n",
              "      <td>0</td>\n",
              "      <td>3</td>\n",
              "      <td>0</td>\n",
              "      <td>2</td>\n",
              "      <td>0.5</td>\n",
              "      <td>0</td>\n",
              "      <td>Northern Zone</td>\n",
              "    </tr>\n",
              "    <tr>\n",
              "      <th>9</th>\n",
              "      <td>8</td>\n",
              "      <td>1</td>\n",
              "      <td>2</td>\n",
              "      <td>0</td>\n",
              "      <td>0.75</td>\n",
              "      <td>4</td>\n",
              "      <td>24</td>\n",
              "      <td>51</td>\n",
              "      <td>0</td>\n",
              "      <td>9</td>\n",
              "      <td>2</td>\n",
              "      <td>0</td>\n",
              "      <td>1</td>\n",
              "      <td>0</td>\n",
              "      <td>0</td>\n",
              "      <td>0.5</td>\n",
              "      <td>0</td>\n",
              "      <td>Northern Zone</td>\n",
              "    </tr>\n",
              "  </tbody>\n",
              "</table>\n",
              "</div>\n",
              "      <button class=\"colab-df-convert\" onclick=\"convertToInteractive('df-17c82894-a636-4b40-b9d4-a44e06839a13')\"\n",
              "              title=\"Convert this dataframe to an interactive table.\"\n",
              "              style=\"display:none;\">\n",
              "        \n",
              "  <svg xmlns=\"http://www.w3.org/2000/svg\" height=\"24px\"viewBox=\"0 0 24 24\"\n",
              "       width=\"24px\">\n",
              "    <path d=\"M0 0h24v24H0V0z\" fill=\"none\"/>\n",
              "    <path d=\"M18.56 5.44l.94 2.06.94-2.06 2.06-.94-2.06-.94-.94-2.06-.94 2.06-2.06.94zm-11 1L8.5 8.5l.94-2.06 2.06-.94-2.06-.94L8.5 2.5l-.94 2.06-2.06.94zm10 10l.94 2.06.94-2.06 2.06-.94-2.06-.94-.94-2.06-.94 2.06-2.06.94z\"/><path d=\"M17.41 7.96l-1.37-1.37c-.4-.4-.92-.59-1.43-.59-.52 0-1.04.2-1.43.59L10.3 9.45l-7.72 7.72c-.78.78-.78 2.05 0 2.83L4 21.41c.39.39.9.59 1.41.59.51 0 1.02-.2 1.41-.59l7.78-7.78 2.81-2.81c.8-.78.8-2.07 0-2.86zM5.41 20L4 18.59l7.72-7.72 1.47 1.35L5.41 20z\"/>\n",
              "  </svg>\n",
              "      </button>\n",
              "      \n",
              "  <style>\n",
              "    .colab-df-container {\n",
              "      display:flex;\n",
              "      flex-wrap:wrap;\n",
              "      gap: 12px;\n",
              "    }\n",
              "\n",
              "    .colab-df-convert {\n",
              "      background-color: #E8F0FE;\n",
              "      border: none;\n",
              "      border-radius: 50%;\n",
              "      cursor: pointer;\n",
              "      display: none;\n",
              "      fill: #1967D2;\n",
              "      height: 32px;\n",
              "      padding: 0 0 0 0;\n",
              "      width: 32px;\n",
              "    }\n",
              "\n",
              "    .colab-df-convert:hover {\n",
              "      background-color: #E2EBFA;\n",
              "      box-shadow: 0px 1px 2px rgba(60, 64, 67, 0.3), 0px 1px 3px 1px rgba(60, 64, 67, 0.15);\n",
              "      fill: #174EA6;\n",
              "    }\n",
              "\n",
              "    [theme=dark] .colab-df-convert {\n",
              "      background-color: #3B4455;\n",
              "      fill: #D2E3FC;\n",
              "    }\n",
              "\n",
              "    [theme=dark] .colab-df-convert:hover {\n",
              "      background-color: #434B5C;\n",
              "      box-shadow: 0px 1px 3px 1px rgba(0, 0, 0, 0.15);\n",
              "      filter: drop-shadow(0px 1px 2px rgba(0, 0, 0, 0.3));\n",
              "      fill: #FFFFFF;\n",
              "    }\n",
              "  </style>\n",
              "\n",
              "      <script>\n",
              "        const buttonEl =\n",
              "          document.querySelector('#df-17c82894-a636-4b40-b9d4-a44e06839a13 button.colab-df-convert');\n",
              "        buttonEl.style.display =\n",
              "          google.colab.kernel.accessAllowed ? 'block' : 'none';\n",
              "\n",
              "        async function convertToInteractive(key) {\n",
              "          const element = document.querySelector('#df-17c82894-a636-4b40-b9d4-a44e06839a13');\n",
              "          const dataTable =\n",
              "            await google.colab.kernel.invokeFunction('convertToInteractive',\n",
              "                                                     [key], {});\n",
              "          if (!dataTable) return;\n",
              "\n",
              "          const docLinkHtml = 'Like what you see? Visit the ' +\n",
              "            '<a target=\"_blank\" href=https://colab.research.google.com/notebooks/data_table.ipynb>data table notebook</a>'\n",
              "            + ' to learn more about interactive tables.';\n",
              "          element.innerHTML = '';\n",
              "          dataTable['output_type'] = 'display_data';\n",
              "          await google.colab.output.renderOutput(dataTable, element);\n",
              "          const docLink = document.createElement('div');\n",
              "          docLink.innerHTML = docLinkHtml;\n",
              "          element.appendChild(docLink);\n",
              "        }\n",
              "      </script>\n",
              "    </div>\n",
              "  </div>\n",
              "  "
            ]
          },
          "metadata": {},
          "execution_count": 4
        }
      ]
    },
    {
      "cell_type": "markdown",
      "source": [
        "# <font size=6>Data Normalization</font>\n",
        "\n",
        "Normalising relevant columns as a preprocessing step for Cluster Analysis"
      ],
      "metadata": {
        "id": "PZWhtSVAkYP2"
      }
    },
    {
      "cell_type": "code",
      "source": [
        "to_ignore = ['Household Number','State','Place Of Residence','Total Children Born','Current Contraceptive Method','Reason Of Last Discontinuation','Zone']\n",
        "for col in df.columns:\n",
        "    if col not in to_ignore:\n",
        "        df[col]=(df[col] - df[col].mean())/df[col].std()"
      ],
      "metadata": {
        "id": "mybqkX1kpQk0"
      },
      "execution_count": null,
      "outputs": []
    },
    {
      "cell_type": "code",
      "source": [
        "df.head(10)"
      ],
      "metadata": {
        "colab": {
          "base_uri": "https://localhost:8080/",
          "height": 644
        },
        "id": "QgBx0PkPqTil",
        "outputId": "b890bc8d-d11f-47cd-ac60-85a570544a3e"
      },
      "execution_count": null,
      "outputs": [
        {
          "output_type": "execute_result",
          "data": {
            "text/plain": [
              "   Household Number  State  Place Of Residence  Highest Education Level  \\\n",
              "0                54      1                   2                 0.301488   \n",
              "1                48      1                   2                 0.301488   \n",
              "2                77      1                   2                 0.301488   \n",
              "3                98      1                   2                 0.301488   \n",
              "4                26      1                   2                 0.301488   \n",
              "5                28      1                   2                 1.383959   \n",
              "6                24      1                   2                 0.301488   \n",
              "7                71      1                   2                -0.780982   \n",
              "8                72      1                   2                -1.863453   \n",
              "9                 8      1                   2                -1.863453   \n",
              "\n",
              "   Wealth Index Combined  Total Children Born  \\\n",
              "0               0.805625                    2   \n",
              "1              -0.633943                    1   \n",
              "2               0.805625                    2   \n",
              "3               0.805625                    2   \n",
              "4               0.085841                    2   \n",
              "5               1.525409                    2   \n",
              "6               0.805625                    2   \n",
              "7              -0.633943                    3   \n",
              "8              -0.633943                    4   \n",
              "9               0.805625                    4   \n",
              "\n",
              "   Age of Respondant at first birth  Marriage to first birth interval  \\\n",
              "0                          1.138888                         -0.123870   \n",
              "1                          0.080369                         -0.216716   \n",
              "2                         -0.713520                         -0.131012   \n",
              "3                          1.932777                         -0.216716   \n",
              "4                          1.932777                         -0.216716   \n",
              "5                          0.080369                         -0.159580   \n",
              "6                          0.344999                         -0.223858   \n",
              "7                         -0.184261                         -0.173864   \n",
              "8                         -0.184261                         -0.152438   \n",
              "9                          0.609628                          0.061824   \n",
              "\n",
              "   Ever had a terminated pregnancy  Current Contraceptive Method  \\\n",
              "0                        -0.424189                             5   \n",
              "1                        -0.424189                             0   \n",
              "2                        -0.424189                             0   \n",
              "3                        -0.424189                             6   \n",
              "4                        -0.424189                             0   \n",
              "5                        -0.424189                             5   \n",
              "6                        -0.424189                             1   \n",
              "7                        -0.424189                             1   \n",
              "8                        -0.424189                             0   \n",
              "9                        -0.424189                             9   \n",
              "\n",
              "   Reason Of Last Discontinuation  Heard about family planning  Anemia Level  \\\n",
              "0                               2                     0.911666     -0.178722   \n",
              "1                              14                     0.911666     -1.730325   \n",
              "2                               9                    -1.096081     -0.954523   \n",
              "3                               2                    -1.096081      0.597080   \n",
              "4                              10                     0.911666      0.597080   \n",
              "5                               3                     0.911666      0.597080   \n",
              "6                              10                     0.911666     -0.178722   \n",
              "7                               9                     0.911666     -0.178722   \n",
              "8                               2                    -1.096081     -0.178722   \n",
              "9                               2                    -1.096081     -1.730325   \n",
              "\n",
              "     Smokes  Husbands Education Level  Size of Child at Birth  Drink Alcohol  \\\n",
              "0 -0.054494                  0.171874               -2.712218      -0.167806   \n",
              "1 -0.054494                  0.171874                0.179958      -0.167806   \n",
              "2 -0.054494                  0.171874                0.179958      -0.167806   \n",
              "3 -0.054494                  0.171874                0.179958      -0.167806   \n",
              "4 -0.054494                  0.171874                0.179958      -0.167806   \n",
              "5 -0.054494                  1.236230                0.179958      -0.167806   \n",
              "6 -0.054494                  0.171874                0.179958      -0.167806   \n",
              "7 -0.054494                  0.171874                0.179958      -0.167806   \n",
              "8 -0.054494                  0.171874                0.179958      -0.167806   \n",
              "9 -0.054494                 -1.956839                0.179958      -0.167806   \n",
              "\n",
              "            Zone  \n",
              "0  Northern Zone  \n",
              "1  Northern Zone  \n",
              "2  Northern Zone  \n",
              "3  Northern Zone  \n",
              "4  Northern Zone  \n",
              "5  Northern Zone  \n",
              "6  Northern Zone  \n",
              "7  Northern Zone  \n",
              "8  Northern Zone  \n",
              "9  Northern Zone  "
            ],
            "text/html": [
              "\n",
              "  <div id=\"df-4b874b96-2f9e-467e-b786-2aee261ac1c9\">\n",
              "    <div class=\"colab-df-container\">\n",
              "      <div>\n",
              "<style scoped>\n",
              "    .dataframe tbody tr th:only-of-type {\n",
              "        vertical-align: middle;\n",
              "    }\n",
              "\n",
              "    .dataframe tbody tr th {\n",
              "        vertical-align: top;\n",
              "    }\n",
              "\n",
              "    .dataframe thead th {\n",
              "        text-align: right;\n",
              "    }\n",
              "</style>\n",
              "<table border=\"1\" class=\"dataframe\">\n",
              "  <thead>\n",
              "    <tr style=\"text-align: right;\">\n",
              "      <th></th>\n",
              "      <th>Household Number</th>\n",
              "      <th>State</th>\n",
              "      <th>Place Of Residence</th>\n",
              "      <th>Highest Education Level</th>\n",
              "      <th>Wealth Index Combined</th>\n",
              "      <th>Total Children Born</th>\n",
              "      <th>Age of Respondant at first birth</th>\n",
              "      <th>Marriage to first birth interval</th>\n",
              "      <th>Ever had a terminated pregnancy</th>\n",
              "      <th>Current Contraceptive Method</th>\n",
              "      <th>Reason Of Last Discontinuation</th>\n",
              "      <th>Heard about family planning</th>\n",
              "      <th>Anemia Level</th>\n",
              "      <th>Smokes</th>\n",
              "      <th>Husbands Education Level</th>\n",
              "      <th>Size of Child at Birth</th>\n",
              "      <th>Drink Alcohol</th>\n",
              "      <th>Zone</th>\n",
              "    </tr>\n",
              "  </thead>\n",
              "  <tbody>\n",
              "    <tr>\n",
              "      <th>0</th>\n",
              "      <td>54</td>\n",
              "      <td>1</td>\n",
              "      <td>2</td>\n",
              "      <td>0.301488</td>\n",
              "      <td>0.805625</td>\n",
              "      <td>2</td>\n",
              "      <td>1.138888</td>\n",
              "      <td>-0.123870</td>\n",
              "      <td>-0.424189</td>\n",
              "      <td>5</td>\n",
              "      <td>2</td>\n",
              "      <td>0.911666</td>\n",
              "      <td>-0.178722</td>\n",
              "      <td>-0.054494</td>\n",
              "      <td>0.171874</td>\n",
              "      <td>-2.712218</td>\n",
              "      <td>-0.167806</td>\n",
              "      <td>Northern Zone</td>\n",
              "    </tr>\n",
              "    <tr>\n",
              "      <th>1</th>\n",
              "      <td>48</td>\n",
              "      <td>1</td>\n",
              "      <td>2</td>\n",
              "      <td>0.301488</td>\n",
              "      <td>-0.633943</td>\n",
              "      <td>1</td>\n",
              "      <td>0.080369</td>\n",
              "      <td>-0.216716</td>\n",
              "      <td>-0.424189</td>\n",
              "      <td>0</td>\n",
              "      <td>14</td>\n",
              "      <td>0.911666</td>\n",
              "      <td>-1.730325</td>\n",
              "      <td>-0.054494</td>\n",
              "      <td>0.171874</td>\n",
              "      <td>0.179958</td>\n",
              "      <td>-0.167806</td>\n",
              "      <td>Northern Zone</td>\n",
              "    </tr>\n",
              "    <tr>\n",
              "      <th>2</th>\n",
              "      <td>77</td>\n",
              "      <td>1</td>\n",
              "      <td>2</td>\n",
              "      <td>0.301488</td>\n",
              "      <td>0.805625</td>\n",
              "      <td>2</td>\n",
              "      <td>-0.713520</td>\n",
              "      <td>-0.131012</td>\n",
              "      <td>-0.424189</td>\n",
              "      <td>0</td>\n",
              "      <td>9</td>\n",
              "      <td>-1.096081</td>\n",
              "      <td>-0.954523</td>\n",
              "      <td>-0.054494</td>\n",
              "      <td>0.171874</td>\n",
              "      <td>0.179958</td>\n",
              "      <td>-0.167806</td>\n",
              "      <td>Northern Zone</td>\n",
              "    </tr>\n",
              "    <tr>\n",
              "      <th>3</th>\n",
              "      <td>98</td>\n",
              "      <td>1</td>\n",
              "      <td>2</td>\n",
              "      <td>0.301488</td>\n",
              "      <td>0.805625</td>\n",
              "      <td>2</td>\n",
              "      <td>1.932777</td>\n",
              "      <td>-0.216716</td>\n",
              "      <td>-0.424189</td>\n",
              "      <td>6</td>\n",
              "      <td>2</td>\n",
              "      <td>-1.096081</td>\n",
              "      <td>0.597080</td>\n",
              "      <td>-0.054494</td>\n",
              "      <td>0.171874</td>\n",
              "      <td>0.179958</td>\n",
              "      <td>-0.167806</td>\n",
              "      <td>Northern Zone</td>\n",
              "    </tr>\n",
              "    <tr>\n",
              "      <th>4</th>\n",
              "      <td>26</td>\n",
              "      <td>1</td>\n",
              "      <td>2</td>\n",
              "      <td>0.301488</td>\n",
              "      <td>0.085841</td>\n",
              "      <td>2</td>\n",
              "      <td>1.932777</td>\n",
              "      <td>-0.216716</td>\n",
              "      <td>-0.424189</td>\n",
              "      <td>0</td>\n",
              "      <td>10</td>\n",
              "      <td>0.911666</td>\n",
              "      <td>0.597080</td>\n",
              "      <td>-0.054494</td>\n",
              "      <td>0.171874</td>\n",
              "      <td>0.179958</td>\n",
              "      <td>-0.167806</td>\n",
              "      <td>Northern Zone</td>\n",
              "    </tr>\n",
              "    <tr>\n",
              "      <th>5</th>\n",
              "      <td>28</td>\n",
              "      <td>1</td>\n",
              "      <td>2</td>\n",
              "      <td>1.383959</td>\n",
              "      <td>1.525409</td>\n",
              "      <td>2</td>\n",
              "      <td>0.080369</td>\n",
              "      <td>-0.159580</td>\n",
              "      <td>-0.424189</td>\n",
              "      <td>5</td>\n",
              "      <td>3</td>\n",
              "      <td>0.911666</td>\n",
              "      <td>0.597080</td>\n",
              "      <td>-0.054494</td>\n",
              "      <td>1.236230</td>\n",
              "      <td>0.179958</td>\n",
              "      <td>-0.167806</td>\n",
              "      <td>Northern Zone</td>\n",
              "    </tr>\n",
              "    <tr>\n",
              "      <th>6</th>\n",
              "      <td>24</td>\n",
              "      <td>1</td>\n",
              "      <td>2</td>\n",
              "      <td>0.301488</td>\n",
              "      <td>0.805625</td>\n",
              "      <td>2</td>\n",
              "      <td>0.344999</td>\n",
              "      <td>-0.223858</td>\n",
              "      <td>-0.424189</td>\n",
              "      <td>1</td>\n",
              "      <td>10</td>\n",
              "      <td>0.911666</td>\n",
              "      <td>-0.178722</td>\n",
              "      <td>-0.054494</td>\n",
              "      <td>0.171874</td>\n",
              "      <td>0.179958</td>\n",
              "      <td>-0.167806</td>\n",
              "      <td>Northern Zone</td>\n",
              "    </tr>\n",
              "    <tr>\n",
              "      <th>7</th>\n",
              "      <td>71</td>\n",
              "      <td>1</td>\n",
              "      <td>2</td>\n",
              "      <td>-0.780982</td>\n",
              "      <td>-0.633943</td>\n",
              "      <td>3</td>\n",
              "      <td>-0.184261</td>\n",
              "      <td>-0.173864</td>\n",
              "      <td>-0.424189</td>\n",
              "      <td>1</td>\n",
              "      <td>9</td>\n",
              "      <td>0.911666</td>\n",
              "      <td>-0.178722</td>\n",
              "      <td>-0.054494</td>\n",
              "      <td>0.171874</td>\n",
              "      <td>0.179958</td>\n",
              "      <td>-0.167806</td>\n",
              "      <td>Northern Zone</td>\n",
              "    </tr>\n",
              "    <tr>\n",
              "      <th>8</th>\n",
              "      <td>72</td>\n",
              "      <td>1</td>\n",
              "      <td>2</td>\n",
              "      <td>-1.863453</td>\n",
              "      <td>-0.633943</td>\n",
              "      <td>4</td>\n",
              "      <td>-0.184261</td>\n",
              "      <td>-0.152438</td>\n",
              "      <td>-0.424189</td>\n",
              "      <td>0</td>\n",
              "      <td>2</td>\n",
              "      <td>-1.096081</td>\n",
              "      <td>-0.178722</td>\n",
              "      <td>-0.054494</td>\n",
              "      <td>0.171874</td>\n",
              "      <td>0.179958</td>\n",
              "      <td>-0.167806</td>\n",
              "      <td>Northern Zone</td>\n",
              "    </tr>\n",
              "    <tr>\n",
              "      <th>9</th>\n",
              "      <td>8</td>\n",
              "      <td>1</td>\n",
              "      <td>2</td>\n",
              "      <td>-1.863453</td>\n",
              "      <td>0.805625</td>\n",
              "      <td>4</td>\n",
              "      <td>0.609628</td>\n",
              "      <td>0.061824</td>\n",
              "      <td>-0.424189</td>\n",
              "      <td>9</td>\n",
              "      <td>2</td>\n",
              "      <td>-1.096081</td>\n",
              "      <td>-1.730325</td>\n",
              "      <td>-0.054494</td>\n",
              "      <td>-1.956839</td>\n",
              "      <td>0.179958</td>\n",
              "      <td>-0.167806</td>\n",
              "      <td>Northern Zone</td>\n",
              "    </tr>\n",
              "  </tbody>\n",
              "</table>\n",
              "</div>\n",
              "      <button class=\"colab-df-convert\" onclick=\"convertToInteractive('df-4b874b96-2f9e-467e-b786-2aee261ac1c9')\"\n",
              "              title=\"Convert this dataframe to an interactive table.\"\n",
              "              style=\"display:none;\">\n",
              "        \n",
              "  <svg xmlns=\"http://www.w3.org/2000/svg\" height=\"24px\"viewBox=\"0 0 24 24\"\n",
              "       width=\"24px\">\n",
              "    <path d=\"M0 0h24v24H0V0z\" fill=\"none\"/>\n",
              "    <path d=\"M18.56 5.44l.94 2.06.94-2.06 2.06-.94-2.06-.94-.94-2.06-.94 2.06-2.06.94zm-11 1L8.5 8.5l.94-2.06 2.06-.94-2.06-.94L8.5 2.5l-.94 2.06-2.06.94zm10 10l.94 2.06.94-2.06 2.06-.94-2.06-.94-.94-2.06-.94 2.06-2.06.94z\"/><path d=\"M17.41 7.96l-1.37-1.37c-.4-.4-.92-.59-1.43-.59-.52 0-1.04.2-1.43.59L10.3 9.45l-7.72 7.72c-.78.78-.78 2.05 0 2.83L4 21.41c.39.39.9.59 1.41.59.51 0 1.02-.2 1.41-.59l7.78-7.78 2.81-2.81c.8-.78.8-2.07 0-2.86zM5.41 20L4 18.59l7.72-7.72 1.47 1.35L5.41 20z\"/>\n",
              "  </svg>\n",
              "      </button>\n",
              "      \n",
              "  <style>\n",
              "    .colab-df-container {\n",
              "      display:flex;\n",
              "      flex-wrap:wrap;\n",
              "      gap: 12px;\n",
              "    }\n",
              "\n",
              "    .colab-df-convert {\n",
              "      background-color: #E8F0FE;\n",
              "      border: none;\n",
              "      border-radius: 50%;\n",
              "      cursor: pointer;\n",
              "      display: none;\n",
              "      fill: #1967D2;\n",
              "      height: 32px;\n",
              "      padding: 0 0 0 0;\n",
              "      width: 32px;\n",
              "    }\n",
              "\n",
              "    .colab-df-convert:hover {\n",
              "      background-color: #E2EBFA;\n",
              "      box-shadow: 0px 1px 2px rgba(60, 64, 67, 0.3), 0px 1px 3px 1px rgba(60, 64, 67, 0.15);\n",
              "      fill: #174EA6;\n",
              "    }\n",
              "\n",
              "    [theme=dark] .colab-df-convert {\n",
              "      background-color: #3B4455;\n",
              "      fill: #D2E3FC;\n",
              "    }\n",
              "\n",
              "    [theme=dark] .colab-df-convert:hover {\n",
              "      background-color: #434B5C;\n",
              "      box-shadow: 0px 1px 3px 1px rgba(0, 0, 0, 0.15);\n",
              "      filter: drop-shadow(0px 1px 2px rgba(0, 0, 0, 0.3));\n",
              "      fill: #FFFFFF;\n",
              "    }\n",
              "  </style>\n",
              "\n",
              "      <script>\n",
              "        const buttonEl =\n",
              "          document.querySelector('#df-4b874b96-2f9e-467e-b786-2aee261ac1c9 button.colab-df-convert');\n",
              "        buttonEl.style.display =\n",
              "          google.colab.kernel.accessAllowed ? 'block' : 'none';\n",
              "\n",
              "        async function convertToInteractive(key) {\n",
              "          const element = document.querySelector('#df-4b874b96-2f9e-467e-b786-2aee261ac1c9');\n",
              "          const dataTable =\n",
              "            await google.colab.kernel.invokeFunction('convertToInteractive',\n",
              "                                                     [key], {});\n",
              "          if (!dataTable) return;\n",
              "\n",
              "          const docLinkHtml = 'Like what you see? Visit the ' +\n",
              "            '<a target=\"_blank\" href=https://colab.research.google.com/notebooks/data_table.ipynb>data table notebook</a>'\n",
              "            + ' to learn more about interactive tables.';\n",
              "          element.innerHTML = '';\n",
              "          dataTable['output_type'] = 'display_data';\n",
              "          await google.colab.output.renderOutput(dataTable, element);\n",
              "          const docLink = document.createElement('div');\n",
              "          docLink.innerHTML = docLinkHtml;\n",
              "          element.appendChild(docLink);\n",
              "        }\n",
              "      </script>\n",
              "    </div>\n",
              "  </div>\n",
              "  "
            ]
          },
          "metadata": {},
          "execution_count": 6
        }
      ]
    },
    {
      "cell_type": "markdown",
      "source": [
        "# <font size=7>Contraception Awareness Analysis</font>\n"
      ],
      "metadata": {
        "id": "v7v0rJYpJPQV"
      }
    },
    {
      "cell_type": "markdown",
      "source": [
        "\n",
        "# <font size=6>Data Analysis: K-Means Clustering</font>"
      ],
      "metadata": {
        "id": "ml5N0hsqtiBy"
      }
    },
    {
      "cell_type": "code",
      "source": [
        "# 2D cluster analysis between total children ever born and current contraceptive method\n",
        "columns = ['Total Children Born','Current Contraceptive Method']\n",
        "df1 = df[columns]\n",
        "df1.info()\n",
        "data = df1.to_numpy()"
      ],
      "metadata": {
        "id": "M4t63wU9tmW7",
        "colab": {
          "base_uri": "https://localhost:8080/"
        },
        "outputId": "87e4a4de-430b-4165-8e32-191bbe4b279e"
      },
      "execution_count": null,
      "outputs": [
        {
          "output_type": "stream",
          "name": "stdout",
          "text": [
            "<class 'pandas.core.frame.DataFrame'>\n",
            "RangeIndex: 1350 entries, 0 to 1349\n",
            "Data columns (total 2 columns):\n",
            " #   Column                        Non-Null Count  Dtype\n",
            "---  ------                        --------------  -----\n",
            " 0   Total Children Born           1350 non-null   int64\n",
            " 1   Current Contraceptive Method  1350 non-null   int64\n",
            "dtypes: int64(2)\n",
            "memory usage: 21.2 KB\n"
          ]
        }
      ]
    },
    {
      "cell_type": "code",
      "source": [
        "# Define a function to calculate the WCSS\n",
        "def calculate_wcss(data, centroids, labels):\n",
        "    wcss = 0\n",
        "    for i in range(len(data)):\n",
        "        centroid = centroids[labels[i]]\n",
        "        distance = np.linalg.norm(data[i] - centroid)\n",
        "        wcss += distance ** 2\n",
        "    return wcss / len(data)\n",
        "\n",
        "# Compute the WCSS values for a range of cluster numbers\n",
        "wcss_values = []\n",
        "for k in range(1, 11):\n",
        "    centroids = np.random.rand(k, 2)  # Initialize centroids randomly\n",
        "    labels = np.zeros(len(data), dtype=int)  # Initialize labels as zeros\n",
        "    for _ in range(10):  # Run k-means for 10 iterations\n",
        "        # Assign each data point to its closest centroid\n",
        "        for i in range(len(data)):\n",
        "            distances = np.linalg.norm(data[i] - centroids, axis=1)\n",
        "            labels[i] = np.argmin(distances)\n",
        "        # Update the centroids to the mean of their assigned points\n",
        "        for j in range(k):\n",
        "            points = data[labels == j]\n",
        "            if len(points) > 0:\n",
        "                centroids[j] = np.mean(points, axis=0)\n",
        "        # Calculate the WCSS for the current iteration\n",
        "        wcss = calculate_wcss(data, centroids, labels)\n",
        "    wcss_values.append(wcss)\n",
        "\n",
        "# Plot the WCSS values against the number of clusters\n",
        "plt.plot(range(1, 11), wcss_values, marker='o')\n",
        "plt.xlabel('Number of clusters')\n",
        "plt.ylabel('WCSS')\n",
        "plt.show()\n",
        "\n",
        "# Identify the elbow point\n",
        "second_derivatives = np.gradient(np.gradient(wcss_values))\n",
        "elbow_point = np.argmax(second_derivatives < 1e-4) + 1\n",
        "\n",
        "# Choose the optimal number of clusters\n",
        "print(f'The optimal number of clusters is {elbow_point}')"
      ],
      "metadata": {
        "colab": {
          "base_uri": "https://localhost:8080/",
          "height": 466
        },
        "id": "xhfHLRnCfvLx",
        "outputId": "ddde77e3-601a-4760-b50a-ecdecaa08a48"
      },
      "execution_count": null,
      "outputs": [
        {
          "output_type": "display_data",
          "data": {
            "text/plain": [
              "<Figure size 640x480 with 1 Axes>"
            ],
            "image/png": "[encoded data removed]"
          },
          "metadata": {}
        },
        {
          "output_type": "stream",
          "name": "stdout",
          "text": [
            "The optimal number of clusters is 6\n"
          ]
        }
      ]
    },
    {
      "cell_type": "code",
      "source": [
        "df1.columns=['x','y']\n"
      ],
      "metadata": {
        "id": "YMvAi6q8iLqL"
      },
      "execution_count": null,
      "outputs": []
    },
    {
      "cell_type": "code",
      "source": [
        "# Running K-Means Clustering with desired number of clusters\n",
        "import random\n",
        "import math\n",
        "import pandas as pd\n",
        "import matplotlib.pyplot as plt\n",
        "\n",
        "# Define the k-means clustering algorithm\n",
        "def kmeans(df1, k, iterations=100):\n",
        "    # Initialize k random centroids\n",
        "    centroids = []\n",
        "    for i in range(k):\n",
        "        centroid = [random.uniform(min(df1[x]), max(df1[x])) for x in df1.columns]\n",
        "        centroids.append(centroid)\n",
        "    \n",
        "    # Perform k-means clustering\n",
        "    for i in range(iterations):\n",
        "        # Assign each data point to the nearest centroid\n",
        "        clusters = {}\n",
        "        for j in range(k):\n",
        "            clusters[j] = []\n",
        "        for index, row in df1.iterrows():\n",
        "            distances = [math.sqrt(sum([(row[x]-centroids[j][x])**2 for x in range(len(row))])) for j in range(k)]\n",
        "            cluster_index = distances.index(min(distances))\n",
        "            clusters[cluster_index].append(index)\n",
        "        \n",
        "        # Update the centroids\n",
        "        for j in range(k):\n",
        "            if clusters[j]:\n",
        "                centroids[j] = [sum(df1.iloc[clusters[j]][x])/len(clusters[j]) for x in df1.columns]\n",
        "    \n",
        "    # Return the cluster assignments and final centroids\n",
        "    return clusters, centroids\n",
        "\n",
        "\n",
        "clusters, centroids = kmeans(df1, elbow_point)"
      ],
      "metadata": {
        "id": "G1yVq2t5mhHH"
      },
      "execution_count": null,
      "outputs": []
    },
    {
      "cell_type": "code",
      "source": [
        "print(f'Total Points in Dataset {len(df1)}')\n",
        "for i in range(elbow_point):\n",
        "  print(f'Cluster {i+1} has {len(clusters[i])} data points')\n",
        "\n"
      ],
      "metadata": {
        "colab": {
          "base_uri": "https://localhost:8080/"
        },
        "id": "TOZe9Z8_jVn_",
        "outputId": "01b26e63-d1ae-496f-a08c-59cc7a0ace93"
      },
      "execution_count": null,
      "outputs": [
        {
          "output_type": "stream",
          "name": "stdout",
          "text": [
            "Total Points in Dataset 1350\n",
            "Cluster 1 has 43 data points\n",
            "Cluster 2 has 78 data points\n",
            "Cluster 3 has 577 data points\n",
            "Cluster 4 has 222 data points\n",
            "Cluster 5 has 73 data points\n",
            "Cluster 6 has 357 data points\n"
          ]
        }
      ]
    },
    {
      "cell_type": "code",
      "source": [
        "# Plot the clustered data\n",
        "\n",
        "colors = ['red','blue','green','orange','purple','black','gray','pink','brown','teal']\n",
        "for i in range(len(clusters)):\n",
        "    for j in clusters[i]:\n",
        "        plt.scatter(df1['x'][j], df1['y'][j],s=5,color=colors[i])\n",
        "    \n",
        "for centroid in centroids:\n",
        "    plt.scatter(centroid[0], centroid[1],color='k', marker='x')\n",
        "print(centroids)\n",
        "plt.xlabel(columns[0])\n",
        "plt.ylabel(columns[1])\n",
        "plt.show()"
      ],
      "metadata": {
        "colab": {
          "base_uri": "https://localhost:8080/",
          "height": 486
        },
        "id": "5WNUQyFUkAgP",
        "outputId": "1411e48f-0eed-4e40-e487-e022035d0da6"
      },
      "execution_count": null,
      "outputs": [
        {
          "output_type": "stream",
          "name": "stdout",
          "text": [
            "[[2.3488372093023258, 13.093023255813954], [4.871794871794871, 0.41025641025641024], [1.9202772963604853, 0.3847487001733102], [2.2477477477477477, 8.59009009009009], [4.863013698630137, 6.068493150684931], [2.112044817927171, 5.411764705882353]]\n"
          ]
        },
        {
          "output_type": "display_data",
          "data": {
            "text/plain": [
              "<Figure size 640x480 with 1 Axes>"
            ],
            "image/png": "[encoded data removed]"
          },
          "metadata": {}
        }
      ]
    },
    {
      "cell_type": "markdown",
      "source": [
        "# <font size=6>Data Analysis: Association Rule Mining (Apriori Algorithm)</font>\n",
        "\n",
        "We use Apriori Algorithm to generate frequent itemsets and association rules with specific min support and min confidence levels"
      ],
      "metadata": {
        "id": "JLWnJzo97UOU"
      }
    },
    {
      "cell_type": "code",
      "source": [
        "df.info()"
      ],
      "metadata": {
        "colab": {
          "base_uri": "https://localhost:8080/"
        },
        "id": "YxMmHmJnnIk9",
        "outputId": "038a2049-c2be-4333-a74e-25458469e32c"
      },
      "execution_count": null,
      "outputs": [
        {
          "output_type": "stream",
          "name": "stdout",
          "text": [
            "<class 'pandas.core.frame.DataFrame'>\n",
            "RangeIndex: 1350 entries, 0 to 1349\n",
            "Data columns (total 18 columns):\n",
            " #   Column                            Non-Null Count  Dtype  \n",
            "---  ------                            --------------  -----  \n",
            " 0   Household Number                  1350 non-null   int64  \n",
            " 1   State                             1350 non-null   int64  \n",
            " 2   Place Of Residence                1350 non-null   int64  \n",
            " 3   Highest Education Level           1350 non-null   float64\n",
            " 4   Wealth Index Combined             1350 non-null   float64\n",
            " 5   Total Children Born               1350 non-null   int64  \n",
            " 6   Age of Respondant at first birth  1350 non-null   float64\n",
            " 7   Marriage to first birth interval  1350 non-null   float64\n",
            " 8   Ever had a terminated pregnancy   1350 non-null   float64\n",
            " 9   Current Contraceptive Method      1350 non-null   int64  \n",
            " 10  Reason Of Last Discontinuation    1350 non-null   int64  \n",
            " 11  Heard about family planning       1350 non-null   float64\n",
            " 12  Anemia Level                      1350 non-null   float64\n",
            " 13  Smokes                            1350 non-null   float64\n",
            " 14  Husbands Education Level          1350 non-null   float64\n",
            " 15  Size of Child at Birth            1350 non-null   float64\n",
            " 16  Drink Alcohol                     1350 non-null   float64\n",
            " 17  Zone                              1350 non-null   object \n",
            "dtypes: float64(11), int64(6), object(1)\n",
            "memory usage: 190.0+ KB\n"
          ]
        }
      ]
    },
    {
      "cell_type": "code",
      "source": [
        "# Creating a dataframe that contain columns related to Contraception Awarness\n",
        "# Dropping the Zone Cloumn\n",
        "df = pd.read_csv('working_dataset.csv')\n",
        "df.columns=new_column_names\n",
        "df3 = df[attributes_contraception]\n",
        "df3 = df3.drop(['Zone'], axis=1)\n",
        "\n",
        "\n",
        "## Dataframe converted to List\n",
        "columns = df3.columns\n",
        "df3 = df3.values\n",
        "df3 = df3.tolist()\n",
        "\n",
        "\n",
        "## each item of the list converted from value -> column name + value\n",
        "for i in df3:\n",
        "  for j in range(len(i)):\n",
        "    i[j] = f'{columns[j]} {i[j]}'\n",
        "\n",
        "\n",
        "# Generated List View\n",
        "print(df3[0])"
      ],
      "metadata": {
        "id": "eA1e61Wm7iqk",
        "colab": {
          "base_uri": "https://localhost:8080/"
        },
        "outputId": "27aaa5dc-d5f1-43cf-ba5f-57e0c637558a"
      },
      "execution_count": null,
      "outputs": [
        {
          "output_type": "stream",
          "name": "stdout",
          "text": [
            "['State 1.0', 'Place Of Residence 2.0', 'Highest Education Level 2.0', 'Wealth Index Combined 0.75', 'Total Children Born 2.0', 'Age of Respondant at first birth 26.0', 'Marriage to first birth interval 25.0', 'Current Contraceptive Method 5.0', 'Reason Of Last Discontinuation 2.0', 'Heard about family planning 1.0', 'Husbands Education Level 2.0']\n"
          ]
        }
      ]
    },
    {
      "cell_type": "code",
      "source": [
        "## generating iterator of the list which is used later \n",
        "def GetRecords(df3):\n",
        "\n",
        "  for a in df3:\n",
        "    yield(frozenset(a))\n",
        "\n",
        "data = GetRecords(df3)\n",
        "\n"
      ],
      "metadata": {
        "id": "7IVMMZ-MsoHH"
      },
      "execution_count": null,
      "outputs": []
    },
    {
      "cell_type": "code",
      "source": [
        "print(type(data))"
      ],
      "metadata": {
        "colab": {
          "base_uri": "https://localhost:8080/"
        },
        "id": "7ATVxsOqyROO",
        "outputId": "59cb0aef-a886-44ec-acaa-58dda5640151"
      },
      "execution_count": null,
      "outputs": [
        {
          "output_type": "stream",
          "name": "stdout",
          "text": [
            "<class 'generator'>\n"
          ]
        }
      ]
    },
    {
      "cell_type": "code",
      "source": [
        "import sys\n",
        "from itertools import chain, combinations\n",
        "from collections import defaultdict\n",
        "from optparse import OptionParser\n",
        "\n",
        "\n",
        "## function that returns all possible subsets of the itemset\n",
        "def subsets(frequent_itemset):\n",
        "   \n",
        "    return chain(*[combinations(frequent_itemset, i + 1) for i, a in enumerate(frequent_itemset)])\n",
        "\n",
        "\n",
        "## function that returns frequent itemsets from generated candidate itemsets\n",
        "def returnItemsWithMinSupport(itemSet, transactionList, minsup, freqSet):\n",
        "       \n",
        "        frequent_item_set = set()\n",
        "        localSet = defaultdict(int)\n",
        "\n",
        "        for item in itemSet:\n",
        "                for transaction in transactionList:\n",
        "                        if item.issubset(transaction):\n",
        "                                freqSet[item] += 1\n",
        "                                localSet[item] += 1\n",
        "\n",
        "        for item, count in localSet.items():\n",
        "                support = float(count)/len(transactionList)\n",
        "\n",
        "                if support >= minsup:\n",
        "                        frequent_item_set.add(item)\n",
        "\n",
        "        return frequent_item_set"
      ],
      "metadata": {
        "id": "DUun7_4-0yJ_"
      },
      "execution_count": null,
      "outputs": []
    },
    {
      "cell_type": "code",
      "source": [
        "def joinSet(itemSet, length):\n",
        "        return set([i.union(j) for i in itemSet for j in itemSet if len(i.union(j)) == length])"
      ],
      "metadata": {
        "id": "2ZWviyg1lC73"
      },
      "execution_count": null,
      "outputs": []
    },
    {
      "cell_type": "code",
      "source": [
        "# Function that returns the transaction list and 1-itemsets\n",
        "def getItemSetTransactionList(data_iterator):\n",
        "    transactionList = list()\n",
        "    itemSet = set()\n",
        "    for record in data_iterator:\n",
        "        transaction = frozenset(record)\n",
        "        transactionList.append(transaction)\n",
        "        for item in transaction:\n",
        "            itemSet.add(frozenset([item]))              \n",
        "    return itemSet, transactionList\n"
      ],
      "metadata": {
        "id": "5or9CMS7k6kX"
      },
      "execution_count": null,
      "outputs": []
    },
    {
      "cell_type": "code",
      "source": [
        "def apriori(iterartor_data, minsup, minconf):\n",
        "   \n",
        "    itemSet, transactionList = getItemSetTransactionList(iterartor_data)\n",
        "    freqSet = defaultdict(int)\n",
        "    frequent_item_set = dict()    ## key -> k , value -> list representing that k itemset \n",
        "    \n",
        "\n",
        "    assocRules = dict()\n",
        "    \n",
        "    one_frequent_set = returnItemsWithMinSupport(itemSet,\n",
        "                                        transactionList,\n",
        "                                        minsup,\n",
        "                                        freqSet)\n",
        "    \n",
        "    #generated frequent itemset\n",
        "    current_frequent_set = one_frequent_set\n",
        "    \n",
        "\n",
        "\n",
        "    k=2\n",
        "    #generate k frequent itemsets from k-1 itemsets\n",
        "    while(current_frequent_set != set([])):\n",
        "        frequent_item_set[k-1] =  current_frequent_set\n",
        "        current_frequent_set = joinSet( current_frequent_set, k)\n",
        "        current_candidate_set = returnItemsWithMinSupport(current_frequent_set,\n",
        "                                                transactionList,\n",
        "                                                minsup,\n",
        "                                                freqSet)\n",
        "        current_frequent_set = current_candidate_set\n",
        "        k = k + 1\n",
        "\n",
        "\n",
        "    def getSupport(item):\n",
        "      return float(freqSet[item])/len(transactionList)\n",
        "            \n",
        "\n",
        "    frequent_item_sets = []\n",
        "    for key, value in frequent_item_set.items():\n",
        "        frequent_item_sets.extend([(tuple(item), getSupport(item)) for item in value])\n",
        "\n",
        "    association_rules = []\n",
        "    for key, value in frequent_item_set.items():\n",
        "      if not key==0:\n",
        "        for item in value:\n",
        "            frequent_subsets = map(frozenset, [x for x in subsets(item)])    ## generating subsets from frquent itemset lists\n",
        "            for antecedent in frequent_subsets:\n",
        "                consequent = item.difference(antecedent)                     ## generating antecedant and consequent to generate rules\n",
        "                if len(consequent) > 0:\n",
        "                    confidence = getSupport(item)/getSupport(antecedent)\n",
        "                    if confidence >= minconf:\n",
        "                        association_rules.append(((tuple(antecedent), tuple(consequent)),  ## adding those rules which have greater confidence than min confindence\n",
        "                                           confidence))\n",
        "    return frequent_item_sets, association_rules"
      ],
      "metadata": {
        "id": "-jqtlnRgkqjc"
      },
      "execution_count": null,
      "outputs": []
    },
    {
      "cell_type": "markdown",
      "source": [
        "Function that generates itemsets and rules for the given data with min support and min confidence levels"
      ],
      "metadata": {
        "id": "7V8pTAHr6fHe"
      }
    },
    {
      "cell_type": "code",
      "source": [
        "frequent_itemsets, association_rules = apriori(data, 0.2, 0.4)"
      ],
      "metadata": {
        "id": "TCSFNE6d3aoY"
      },
      "execution_count": null,
      "outputs": []
    },
    {
      "cell_type": "code",
      "source": [
        "# printing all the generated frequent itemsets\n",
        "for a in frequent_itemsets:\n",
        "  print(a)"
      ],
      "metadata": {
        "colab": {
          "base_uri": "https://localhost:8080/"
        },
        "id": "Ba0PvOCO3dfq",
        "outputId": "fa17a270-a731-4b08-9cb5-5a0b86d63953"
      },
      "execution_count": null,
      "outputs": [
        {
          "output_type": "stream",
          "name": "stdout",
          "text": [
            "(('Wealth Index Combined 0.0',), 0.21481481481481482)\n",
            "(('Current Contraceptive Method 0.0',), 0.3496296296296296)\n",
            "(('Place Of Residence 2.0',), 0.7614814814814815)\n",
            "(('Husbands Education Level 2.0',), 0.6007407407407407)\n",
            "(('Total Children Born 1.0',), 0.22296296296296297)\n",
            "(('Place Of Residence 1.0',), 0.23851851851851852)\n",
            "(('Heard about family planning 1.0',), 0.5459259259259259)\n",
            "(('Total Children Born 3.0',), 0.21407407407407408)\n",
            "(('Reason Of Last Discontinuation 2.0',), 0.4622222222222222)\n",
            "(('Wealth Index Combined 0.5',), 0.20592592592592593)\n",
            "(('Wealth Index Combined 0.25',), 0.21851851851851853)\n",
            "(('Heard about family planning 0.0',), 0.4540740740740741)\n",
            "(('Highest Education Level 2.0',), 0.5496296296296296)\n",
            "(('Total Children Born 2.0',), 0.42592592592592593)\n",
            "(('Heard about family planning 0.0', 'Place Of Residence 2.0'), 0.36148148148148146)\n",
            "(('Highest Education Level 2.0', 'Place Of Residence 2.0'), 0.4274074074074074)\n",
            "(('Heard about family planning 0.0', 'Husbands Education Level 2.0'), 0.2548148148148148)\n",
            "(('Reason Of Last Discontinuation 2.0', 'Place Of Residence 2.0'), 0.34814814814814815)\n",
            "(('Husbands Education Level 2.0', 'Heard about family planning 1.0'), 0.3459259259259259)\n",
            "(('Reason Of Last Discontinuation 2.0', 'Heard about family planning 0.0'), 0.2111111111111111)\n",
            "(('Reason Of Last Discontinuation 2.0', 'Highest Education Level 2.0'), 0.2674074074074074)\n",
            "(('Total Children Born 2.0', 'Heard about family planning 1.0'), 0.2577777777777778)\n",
            "(('Husbands Education Level 2.0', 'Highest Education Level 2.0'), 0.41555555555555557)\n",
            "(('Reason Of Last Discontinuation 2.0', 'Heard about family planning 1.0'), 0.2511111111111111)\n",
            "(('Highest Education Level 2.0', 'Total Children Born 2.0'), 0.24888888888888888)\n",
            "(('Wealth Index Combined 0.0', 'Place Of Residence 2.0'), 0.20592592592592593)\n",
            "(('Current Contraceptive Method 0.0', 'Husbands Education Level 2.0'), 0.21259259259259258)\n",
            "(('Heard about family planning 0.0', 'Highest Education Level 2.0'), 0.21851851851851853)\n",
            "(('Husbands Education Level 2.0', 'Total Children Born 2.0'), 0.2777777777777778)\n",
            "(('Highest Education Level 2.0', 'Heard about family planning 1.0'), 0.33111111111111113)\n",
            "(('Reason Of Last Discontinuation 2.0', 'Husbands Education Level 2.0'), 0.2851851851851852)\n",
            "(('Current Contraceptive Method 0.0', 'Place Of Residence 2.0'), 0.26666666666666666)\n",
            "(('Total Children Born 2.0', 'Place Of Residence 2.0'), 0.31333333333333335)\n",
            "(('Heard about family planning 1.0', 'Place Of Residence 2.0'), 0.4)\n",
            "(('Husbands Education Level 2.0', 'Place Of Residence 2.0'), 0.4659259259259259)\n",
            "(('Highest Education Level 2.0', 'Husbands Education Level 2.0', 'Place Of Residence 2.0'), 0.32814814814814813)\n",
            "(('Husbands Education Level 2.0', 'Highest Education Level 2.0', 'Heard about family planning 1.0'), 0.25333333333333335)\n",
            "(('Heard about family planning 1.0', 'Highest Education Level 2.0', 'Place Of Residence 2.0'), 0.25407407407407406)\n",
            "(('Reason Of Last Discontinuation 2.0', 'Husbands Education Level 2.0', 'Place Of Residence 2.0'), 0.22444444444444445)\n",
            "(('Reason Of Last Discontinuation 2.0', 'Highest Education Level 2.0', 'Place Of Residence 2.0'), 0.20444444444444446)\n",
            "(('Place Of Residence 2.0', 'Husbands Education Level 2.0', 'Heard about family planning 1.0'), 0.2614814814814815)\n",
            "(('Husbands Education Level 2.0', 'Total Children Born 2.0', 'Place Of Residence 2.0'), 0.2111111111111111)\n",
            "(('Heard about family planning 0.0', 'Husbands Education Level 2.0', 'Place Of Residence 2.0'), 0.20444444444444446)\n"
          ]
        }
      ]
    },
    {
      "cell_type": "code",
      "source": [
        "# printing all the generated associtaion rules\n",
        "for a in association_rules:\n",
        "  rule = a[0]\n",
        "  antecedent = rule[0]\n",
        "  consequent = rule[1]\n",
        "  print(str(antecedent)+' -> '+str(consequent))\n",
        "  conf = a[1]\n",
        "  print('Confidence is: '+str(conf))\n",
        "  print('\\n')"
      ],
      "metadata": {
        "colab": {
          "base_uri": "https://localhost:8080/"
        },
        "id": "DgNdJC8T4ULb",
        "outputId": "82333da6-e5f1-45f3-db73-b190d8aed356"
      },
      "execution_count": null,
      "outputs": [
        {
          "output_type": "stream",
          "name": "stdout",
          "text": [
            "('Heard about family planning 0.0',) -> ('Place Of Residence 2.0',)\n",
            "Confidence is: 0.7960848287112561\n",
            "\n",
            "\n",
            "('Place Of Residence 2.0',) -> ('Heard about family planning 0.0',)\n",
            "Confidence is: 0.4747081712062256\n",
            "\n",
            "\n",
            "('Highest Education Level 2.0',) -> ('Place Of Residence 2.0',)\n",
            "Confidence is: 0.7776280323450135\n",
            "\n",
            "\n",
            "('Place Of Residence 2.0',) -> ('Highest Education Level 2.0',)\n",
            "Confidence is: 0.561284046692607\n",
            "\n",
            "\n",
            "('Heard about family planning 0.0',) -> ('Husbands Education Level 2.0',)\n",
            "Confidence is: 0.5611745513866232\n",
            "\n",
            "\n",
            "('Husbands Education Level 2.0',) -> ('Heard about family planning 0.0',)\n",
            "Confidence is: 0.42416769420468564\n",
            "\n",
            "\n",
            "('Reason Of Last Discontinuation 2.0',) -> ('Place Of Residence 2.0',)\n",
            "Confidence is: 0.7532051282051282\n",
            "\n",
            "\n",
            "('Place Of Residence 2.0',) -> ('Reason Of Last Discontinuation 2.0',)\n",
            "Confidence is: 0.4571984435797665\n",
            "\n",
            "\n",
            "('Husbands Education Level 2.0',) -> ('Heard about family planning 1.0',)\n",
            "Confidence is: 0.5758323057953144\n",
            "\n",
            "\n",
            "('Heard about family planning 1.0',) -> ('Husbands Education Level 2.0',)\n",
            "Confidence is: 0.6336499321573948\n",
            "\n",
            "\n",
            "('Reason Of Last Discontinuation 2.0',) -> ('Heard about family planning 0.0',)\n",
            "Confidence is: 0.4567307692307693\n",
            "\n",
            "\n",
            "('Heard about family planning 0.0',) -> ('Reason Of Last Discontinuation 2.0',)\n",
            "Confidence is: 0.46492659053833607\n",
            "\n",
            "\n",
            "('Reason Of Last Discontinuation 2.0',) -> ('Highest Education Level 2.0',)\n",
            "Confidence is: 0.5785256410256411\n",
            "\n",
            "\n",
            "('Highest Education Level 2.0',) -> ('Reason Of Last Discontinuation 2.0',)\n",
            "Confidence is: 0.48652291105121304\n",
            "\n",
            "\n",
            "('Total Children Born 2.0',) -> ('Heard about family planning 1.0',)\n",
            "Confidence is: 0.6052173913043478\n",
            "\n",
            "\n",
            "('Heard about family planning 1.0',) -> ('Total Children Born 2.0',)\n",
            "Confidence is: 0.47218453188602444\n",
            "\n",
            "\n",
            "('Husbands Education Level 2.0',) -> ('Highest Education Level 2.0',)\n",
            "Confidence is: 0.6917385943279902\n",
            "\n",
            "\n",
            "('Highest Education Level 2.0',) -> ('Husbands Education Level 2.0',)\n",
            "Confidence is: 0.7560646900269543\n",
            "\n",
            "\n",
            "('Reason Of Last Discontinuation 2.0',) -> ('Heard about family planning 1.0',)\n",
            "Confidence is: 0.5432692307692308\n",
            "\n",
            "\n",
            "('Heard about family planning 1.0',) -> ('Reason Of Last Discontinuation 2.0',)\n",
            "Confidence is: 0.4599728629579376\n",
            "\n",
            "\n",
            "('Highest Education Level 2.0',) -> ('Total Children Born 2.0',)\n",
            "Confidence is: 0.4528301886792453\n",
            "\n",
            "\n",
            "('Total Children Born 2.0',) -> ('Highest Education Level 2.0',)\n",
            "Confidence is: 0.5843478260869565\n",
            "\n",
            "\n",
            "('Wealth Index Combined 0.0',) -> ('Place Of Residence 2.0',)\n",
            "Confidence is: 0.9586206896551724\n",
            "\n",
            "\n",
            "('Current Contraceptive Method 0.0',) -> ('Husbands Education Level 2.0',)\n",
            "Confidence is: 0.608050847457627\n",
            "\n",
            "\n",
            "('Heard about family planning 0.0',) -> ('Highest Education Level 2.0',)\n",
            "Confidence is: 0.4812398042414356\n",
            "\n",
            "\n",
            "('Husbands Education Level 2.0',) -> ('Total Children Born 2.0',)\n",
            "Confidence is: 0.4623921085080149\n",
            "\n",
            "\n",
            "('Total Children Born 2.0',) -> ('Husbands Education Level 2.0',)\n",
            "Confidence is: 0.6521739130434783\n",
            "\n",
            "\n",
            "('Highest Education Level 2.0',) -> ('Heard about family planning 1.0',)\n",
            "Confidence is: 0.6024258760107818\n",
            "\n",
            "\n",
            "('Heard about family planning 1.0',) -> ('Highest Education Level 2.0',)\n",
            "Confidence is: 0.6065128900949797\n",
            "\n",
            "\n",
            "('Reason Of Last Discontinuation 2.0',) -> ('Husbands Education Level 2.0',)\n",
            "Confidence is: 0.6169871794871795\n",
            "\n",
            "\n",
            "('Husbands Education Level 2.0',) -> ('Reason Of Last Discontinuation 2.0',)\n",
            "Confidence is: 0.47472256473489527\n",
            "\n",
            "\n",
            "('Current Contraceptive Method 0.0',) -> ('Place Of Residence 2.0',)\n",
            "Confidence is: 0.7627118644067796\n",
            "\n",
            "\n",
            "('Total Children Born 2.0',) -> ('Place Of Residence 2.0',)\n",
            "Confidence is: 0.7356521739130435\n",
            "\n",
            "\n",
            "('Place Of Residence 2.0',) -> ('Total Children Born 2.0',)\n",
            "Confidence is: 0.41147859922178986\n",
            "\n",
            "\n",
            "('Heard about family planning 1.0',) -> ('Place Of Residence 2.0',)\n",
            "Confidence is: 0.7327001356852103\n",
            "\n",
            "\n",
            "('Place Of Residence 2.0',) -> ('Heard about family planning 1.0',)\n",
            "Confidence is: 0.5252918287937743\n",
            "\n",
            "\n",
            "('Husbands Education Level 2.0',) -> ('Place Of Residence 2.0',)\n",
            "Confidence is: 0.7755856966707768\n",
            "\n",
            "\n",
            "('Place Of Residence 2.0',) -> ('Husbands Education Level 2.0',)\n",
            "Confidence is: 0.6118677042801556\n",
            "\n",
            "\n",
            "('Highest Education Level 2.0',) -> ('Husbands Education Level 2.0', 'Place Of Residence 2.0')\n",
            "Confidence is: 0.5970350404312669\n",
            "\n",
            "\n",
            "('Husbands Education Level 2.0',) -> ('Highest Education Level 2.0', 'Place Of Residence 2.0')\n",
            "Confidence is: 0.5462392108508015\n",
            "\n",
            "\n",
            "('Place Of Residence 2.0',) -> ('Highest Education Level 2.0', 'Husbands Education Level 2.0')\n",
            "Confidence is: 0.4309338521400778\n",
            "\n",
            "\n",
            "('Highest Education Level 2.0', 'Husbands Education Level 2.0') -> ('Place Of Residence 2.0',)\n",
            "Confidence is: 0.7896613190730837\n",
            "\n",
            "\n",
            "('Highest Education Level 2.0', 'Place Of Residence 2.0') -> ('Husbands Education Level 2.0',)\n",
            "Confidence is: 0.7677642980935875\n",
            "\n",
            "\n",
            "('Husbands Education Level 2.0', 'Place Of Residence 2.0') -> ('Highest Education Level 2.0',)\n",
            "Confidence is: 0.7042925278219396\n",
            "\n",
            "\n",
            "('Husbands Education Level 2.0',) -> ('Highest Education Level 2.0', 'Heard about family planning 1.0')\n",
            "Confidence is: 0.4217016029593096\n",
            "\n",
            "\n",
            "('Highest Education Level 2.0',) -> ('Husbands Education Level 2.0', 'Heard about family planning 1.0')\n",
            "Confidence is: 0.4609164420485176\n",
            "\n",
            "\n",
            "('Heard about family planning 1.0',) -> ('Husbands Education Level 2.0', 'Highest Education Level 2.0')\n",
            "Confidence is: 0.4640434192672999\n",
            "\n",
            "\n",
            "('Husbands Education Level 2.0', 'Highest Education Level 2.0') -> ('Heard about family planning 1.0',)\n",
            "Confidence is: 0.6096256684491979\n",
            "\n",
            "\n",
            "('Husbands Education Level 2.0', 'Heard about family planning 1.0') -> ('Highest Education Level 2.0',)\n",
            "Confidence is: 0.7323340471092078\n",
            "\n",
            "\n",
            "('Highest Education Level 2.0', 'Heard about family planning 1.0') -> ('Husbands Education Level 2.0',)\n",
            "Confidence is: 0.7651006711409396\n",
            "\n",
            "\n",
            "('Heard about family planning 1.0',) -> ('Highest Education Level 2.0', 'Place Of Residence 2.0')\n",
            "Confidence is: 0.4654002713704206\n",
            "\n",
            "\n",
            "('Highest Education Level 2.0',) -> ('Place Of Residence 2.0', 'Heard about family planning 1.0')\n",
            "Confidence is: 0.46226415094339623\n",
            "\n",
            "\n",
            "('Highest Education Level 2.0', 'Heard about family planning 1.0') -> ('Place Of Residence 2.0',)\n",
            "Confidence is: 0.7673378076062639\n",
            "\n",
            "\n",
            "('Place Of Residence 2.0', 'Heard about family planning 1.0') -> ('Highest Education Level 2.0',)\n",
            "Confidence is: 0.6351851851851851\n",
            "\n",
            "\n",
            "('Highest Education Level 2.0', 'Place Of Residence 2.0') -> ('Heard about family planning 1.0',)\n",
            "Confidence is: 0.5944540727902946\n",
            "\n",
            "\n",
            "('Reason Of Last Discontinuation 2.0',) -> ('Husbands Education Level 2.0', 'Place Of Residence 2.0')\n",
            "Confidence is: 0.48557692307692313\n",
            "\n",
            "\n",
            "('Reason Of Last Discontinuation 2.0', 'Husbands Education Level 2.0') -> ('Place Of Residence 2.0',)\n",
            "Confidence is: 0.7870129870129869\n",
            "\n",
            "\n",
            "('Reason Of Last Discontinuation 2.0', 'Place Of Residence 2.0') -> ('Husbands Education Level 2.0',)\n",
            "Confidence is: 0.6446808510638298\n",
            "\n",
            "\n",
            "('Husbands Education Level 2.0', 'Place Of Residence 2.0') -> ('Reason Of Last Discontinuation 2.0',)\n",
            "Confidence is: 0.48171701112877585\n",
            "\n",
            "\n",
            "('Reason Of Last Discontinuation 2.0',) -> ('Highest Education Level 2.0', 'Place Of Residence 2.0')\n",
            "Confidence is: 0.44230769230769235\n",
            "\n",
            "\n",
            "('Reason Of Last Discontinuation 2.0', 'Highest Education Level 2.0') -> ('Place Of Residence 2.0',)\n",
            "Confidence is: 0.7645429362880887\n",
            "\n",
            "\n",
            "('Reason Of Last Discontinuation 2.0', 'Place Of Residence 2.0') -> ('Highest Education Level 2.0',)\n",
            "Confidence is: 0.5872340425531916\n",
            "\n",
            "\n",
            "('Highest Education Level 2.0', 'Place Of Residence 2.0') -> ('Reason Of Last Discontinuation 2.0',)\n",
            "Confidence is: 0.4783362218370884\n",
            "\n",
            "\n",
            "('Husbands Education Level 2.0',) -> ('Heard about family planning 1.0', 'Place Of Residence 2.0')\n",
            "Confidence is: 0.435265104808878\n",
            "\n",
            "\n",
            "('Heard about family planning 1.0',) -> ('Husbands Education Level 2.0', 'Place Of Residence 2.0')\n",
            "Confidence is: 0.4789687924016282\n",
            "\n",
            "\n",
            "('Husbands Education Level 2.0', 'Place Of Residence 2.0') -> ('Heard about family planning 1.0',)\n",
            "Confidence is: 0.5612082670906201\n",
            "\n",
            "\n",
            "('Heard about family planning 1.0', 'Place Of Residence 2.0') -> ('Husbands Education Level 2.0',)\n",
            "Confidence is: 0.6537037037037037\n",
            "\n",
            "\n",
            "('Husbands Education Level 2.0', 'Heard about family planning 1.0') -> ('Place Of Residence 2.0',)\n",
            "Confidence is: 0.7558886509635975\n",
            "\n",
            "\n",
            "('Total Children Born 2.0',) -> ('Husbands Education Level 2.0', 'Place Of Residence 2.0')\n",
            "Confidence is: 0.49565217391304345\n",
            "\n",
            "\n",
            "('Husbands Education Level 2.0', 'Total Children Born 2.0') -> ('Place Of Residence 2.0',)\n",
            "Confidence is: 0.76\n",
            "\n",
            "\n",
            "('Husbands Education Level 2.0', 'Place Of Residence 2.0') -> ('Total Children Born 2.0',)\n",
            "Confidence is: 0.45310015898251194\n",
            "\n",
            "\n",
            "('Total Children Born 2.0', 'Place Of Residence 2.0') -> ('Husbands Education Level 2.0',)\n",
            "Confidence is: 0.6737588652482269\n",
            "\n",
            "\n",
            "('Heard about family planning 0.0',) -> ('Husbands Education Level 2.0', 'Place Of Residence 2.0')\n",
            "Confidence is: 0.4502446982055465\n",
            "\n",
            "\n",
            "('Heard about family planning 0.0', 'Husbands Education Level 2.0') -> ('Place Of Residence 2.0',)\n",
            "Confidence is: 0.8023255813953488\n",
            "\n",
            "\n",
            "('Heard about family planning 0.0', 'Place Of Residence 2.0') -> ('Husbands Education Level 2.0',)\n",
            "Confidence is: 0.5655737704918034\n",
            "\n",
            "\n",
            "('Husbands Education Level 2.0', 'Place Of Residence 2.0') -> ('Heard about family planning 0.0',)\n",
            "Confidence is: 0.43879173290938\n",
            "\n",
            "\n"
          ]
        }
      ]
    },
    {
      "cell_type": "markdown",
      "source": [
        "# <font size=6>Data Analysis: Regression Analysis (OLS Regression)</font>"
      ],
      "metadata": {
        "id": "iuNCJVVH07F5"
      }
    },
    {
      "cell_type": "code",
      "source": [
        "df = pd.read_csv('working_dataset.csv')\n",
        "df.columns = new_column_names\n",
        "df5 = df[attributes_contraception]"
      ],
      "metadata": {
        "id": "9eGHWJqx0_Or"
      },
      "execution_count": null,
      "outputs": []
    },
    {
      "cell_type": "code",
      "source": [
        "# columns related to contraception awarness\n",
        "df5.columns"
      ],
      "metadata": {
        "colab": {
          "base_uri": "https://localhost:8080/"
        },
        "id": "6k7rJK1vdPNn",
        "outputId": "89e739af-9564-4df2-f19c-418c5b8591c1"
      },
      "execution_count": null,
      "outputs": [
        {
          "output_type": "execute_result",
          "data": {
            "text/plain": [
              "Index(['State', 'Place Of Residence', 'Highest Education Level',\n",
              "       'Wealth Index Combined', 'Total Children Born',\n",
              "       'Age of Respondant at first birth', 'Marriage to first birth interval',\n",
              "       'Current Contraceptive Method', 'Reason Of Last Discontinuation',\n",
              "       'Heard about family planning', 'Husbands Education Level', 'Zone'],\n",
              "      dtype='object')"
            ]
          },
          "metadata": {},
          "execution_count": 25
        }
      ]
    },
    {
      "cell_type": "code",
      "source": [
        "# Creating array of independent and dependent variables from the above dataset\n",
        "import statsmodels.api as sm\n",
        "X = df5.copy(deep='True')\n",
        "# X: independent variable\n",
        "X = X.drop(columns = ['Wealth Index Combined','Zone'])\n",
        "df6 = X\n",
        "Xcpy = X.copy(deep= 'True')\n",
        "#y: dependent variable\n",
        "y = df5['Wealth Index Combined']\n",
        "\n",
        "#convert to numpy\n",
        "y=y.values\n",
        "X=X.values"
      ],
      "metadata": {
        "id": "vYUQG3G6Qrn_"
      },
      "execution_count": null,
      "outputs": []
    },
    {
      "cell_type": "code",
      "source": [
        "df6.columns"
      ],
      "metadata": {
        "colab": {
          "base_uri": "https://localhost:8080/"
        },
        "id": "A4yr7wiqRsLL",
        "outputId": "744c0b22-521f-4331-899f-82e0e28d59f4"
      },
      "execution_count": null,
      "outputs": [
        {
          "output_type": "execute_result",
          "data": {
            "text/plain": [
              "Index(['State', 'Place Of Residence', 'Highest Education Level',\n",
              "       'Total Children Born', 'Age of Respondant at first birth',\n",
              "       'Marriage to first birth interval', 'Current Contraceptive Method',\n",
              "       'Reason Of Last Discontinuation', 'Heard about family planning',\n",
              "       'Husbands Education Level'],\n",
              "      dtype='object')"
            ]
          },
          "metadata": {},
          "execution_count": 27
        }
      ]
    },
    {
      "cell_type": "code",
      "source": [
        "# All variables Regression Results\n",
        "X2 = sm.add_constant(X)\n",
        "est = sm.OLS(y, X2)\n",
        "est2 = est.fit()\n",
        "print(est2.summary())"
      ],
      "metadata": {
        "colab": {
          "base_uri": "https://localhost:8080/"
        },
        "id": "BcKG2fmYRIi1",
        "outputId": "5895abbb-d2e0-4aeb-c1e5-2a574504b745"
      },
      "execution_count": null,
      "outputs": [
        {
          "output_type": "stream",
          "name": "stdout",
          "text": [
            "                            OLS Regression Results                            \n",
            "==============================================================================\n",
            "Dep. Variable:                      y   R-squared:                       0.422\n",
            "Model:                            OLS   Adj. R-squared:                  0.418\n",
            "Method:                 Least Squares   F-statistic:                     97.71\n",
            "Date:                Tue, 02 May 2023   Prob (F-statistic):          1.28e-151\n",
            "Time:                        12:33:40   Log-Likelihood:                -117.58\n",
            "No. Observations:                1350   AIC:                             257.2\n",
            "Df Residuals:                    1339   BIC:                             314.5\n",
            "Df Model:                          10                                         \n",
            "Covariance Type:            nonrobust                                         \n",
            "==============================================================================\n",
            "                 coef    std err          t      P>|t|      [0.025      0.975]\n",
            "------------------------------------------------------------------------------\n",
            "const          0.4290      0.064      6.663      0.000       0.303       0.555\n",
            "x1            -0.0025      0.001     -3.339      0.001      -0.004      -0.001\n",
            "x2            -0.2423      0.017    -14.073      0.000      -0.276      -0.209\n",
            "x3             0.1120      0.010     11.192      0.000       0.092       0.132\n",
            "x4            -0.0174      0.007     -2.617      0.009      -0.031      -0.004\n",
            "x5             0.0081      0.002      4.010      0.000       0.004       0.012\n",
            "x6          3.226e-05   5.17e-05      0.624      0.533   -6.92e-05       0.000\n",
            "x7             0.0031      0.002      1.570      0.117      -0.001       0.007\n",
            "x8            -0.0004      0.001     -0.425      0.671      -0.002       0.001\n",
            "x9             0.1232      0.015      8.222      0.000       0.094       0.153\n",
            "x10            0.0565      0.009      6.084      0.000       0.038       0.075\n",
            "==============================================================================\n",
            "Omnibus:                       15.215   Durbin-Watson:                   1.567\n",
            "Prob(Omnibus):                  0.000   Jarque-Bera (JB):               10.422\n",
            "Skew:                           0.077   Prob(JB):                      0.00546\n",
            "Kurtosis:                       2.598   Cond. No.                     1.32e+03\n",
            "==============================================================================\n",
            "\n",
            "Notes:\n",
            "[1] Standard Errors assume that the covariance matrix of the errors is correctly specified.\n",
            "[2] The condition number is large, 1.32e+03. This might indicate that there are\n",
            "strong multicollinearity or other numerical problems.\n"
          ]
        }
      ]
    },
    {
      "cell_type": "code",
      "source": [
        "# Removing Variables with p-values higher than 0.05 (threshold)\n",
        "Xcpy.drop(Xcpy.columns[[4,6,7]],axis=1,inplace=True)"
      ],
      "metadata": {
        "id": "8Pm5JB1tSfRO"
      },
      "execution_count": null,
      "outputs": []
    },
    {
      "cell_type": "code",
      "source": [
        "# final list of independent variables\n",
        "Xcpy.columns"
      ],
      "metadata": {
        "colab": {
          "base_uri": "https://localhost:8080/"
        },
        "id": "GNq2Iez0Tv4c",
        "outputId": "86bb4439-5991-4311-dbe9-2af70f6a607b"
      },
      "execution_count": null,
      "outputs": [
        {
          "output_type": "execute_result",
          "data": {
            "text/plain": [
              "Index(['State', 'Place Of Residence', 'Highest Education Level',\n",
              "       'Total Children Born', 'Marriage to first birth interval',\n",
              "       'Heard about family planning', 'Husbands Education Level'],\n",
              "      dtype='object')"
            ]
          },
          "metadata": {},
          "execution_count": 30
        }
      ]
    },
    {
      "cell_type": "code",
      "source": [
        "X = Xcpy.copy(deep = 'True')\n",
        "X = X.values"
      ],
      "metadata": {
        "id": "cok5WK-iTzuX"
      },
      "execution_count": null,
      "outputs": []
    },
    {
      "cell_type": "code",
      "source": [
        "# Selected variables Regression Results\n",
        "X2 = sm.add_constant(X)\n",
        "est = sm.OLS(y, X2)\n",
        "est2 = est.fit()\n",
        "print(est2.summary())"
      ],
      "metadata": {
        "colab": {
          "base_uri": "https://localhost:8080/"
        },
        "id": "_9ClS7IKT-GV",
        "outputId": "7d23d8d2-1841-4ecd-8734-47645a832dd3"
      },
      "execution_count": null,
      "outputs": [
        {
          "output_type": "stream",
          "name": "stdout",
          "text": [
            "                            OLS Regression Results                            \n",
            "==============================================================================\n",
            "Dep. Variable:                      y   R-squared:                       0.413\n",
            "Model:                            OLS   Adj. R-squared:                  0.410\n",
            "Method:                 Least Squares   F-statistic:                     135.1\n",
            "Date:                Tue, 02 May 2023   Prob (F-statistic):          1.54e-150\n",
            "Time:                        12:33:40   Log-Likelihood:                -127.49\n",
            "No. Observations:                1350   AIC:                             271.0\n",
            "Df Residuals:                    1342   BIC:                             312.6\n",
            "Df Model:                           7                                         \n",
            "Covariance Type:            nonrobust                                         \n",
            "==============================================================================\n",
            "                 coef    std err          t      P>|t|      [0.025      0.975]\n",
            "------------------------------------------------------------------------------\n",
            "const          0.6228      0.045     13.716      0.000       0.534       0.712\n",
            "x1            -0.0029      0.001     -3.793      0.000      -0.004      -0.001\n",
            "x2            -0.2431      0.017    -14.040      0.000      -0.277      -0.209\n",
            "x3             0.1162      0.010     11.604      0.000       0.097       0.136\n",
            "x4            -0.0221      0.007     -3.375      0.001      -0.035      -0.009\n",
            "x5          3.271e-05   5.19e-05      0.630      0.529   -6.92e-05       0.000\n",
            "x6             0.1246      0.015      8.288      0.000       0.095       0.154\n",
            "x7             0.0575      0.009      6.157      0.000       0.039       0.076\n",
            "==============================================================================\n",
            "Omnibus:                       19.709   Durbin-Watson:                   1.554\n",
            "Prob(Omnibus):                  0.000   Jarque-Bera (JB):               12.360\n",
            "Skew:                           0.064   Prob(JB):                      0.00207\n",
            "Kurtosis:                       2.549   Cond. No.                         958.\n",
            "==============================================================================\n",
            "\n",
            "Notes:\n",
            "[1] Standard Errors assume that the covariance matrix of the errors is correctly specified.\n"
          ]
        }
      ]
    },
    {
      "cell_type": "markdown",
      "source": [
        "# <font size=7>Child Health Analysis</font>\n"
      ],
      "metadata": {
        "id": "iEzoicfRr-bW"
      }
    },
    {
      "cell_type": "markdown",
      "source": [
        "# <font size=6>Data Analysis: K-Means Clustering</font>"
      ],
      "metadata": {
        "id": "CPu648ytzY8E"
      }
    },
    {
      "cell_type": "code",
      "source": [
        "## 2D cluster analysis between anaemia level and size of child at birth\n",
        "columns = ['Highest Education Level','Wealth Index Combined']\n",
        "df2 = df[columns]\n",
        "df2.info()\n",
        "data = df2.to_numpy()"
      ],
      "metadata": {
        "colab": {
          "base_uri": "https://localhost:8080/"
        },
        "id": "wmSz7fMSsCVs",
        "outputId": "f6126386-8e82-4e86-e493-f89488fdcde5"
      },
      "execution_count": null,
      "outputs": [
        {
          "output_type": "stream",
          "name": "stdout",
          "text": [
            "<class 'pandas.core.frame.DataFrame'>\n",
            "RangeIndex: 1350 entries, 0 to 1349\n",
            "Data columns (total 2 columns):\n",
            " #   Column                   Non-Null Count  Dtype  \n",
            "---  ------                   --------------  -----  \n",
            " 0   Highest Education Level  1350 non-null   int64  \n",
            " 1   Wealth Index Combined    1350 non-null   float64\n",
            "dtypes: float64(1), int64(1)\n",
            "memory usage: 21.2 KB\n"
          ]
        }
      ]
    },
    {
      "cell_type": "code",
      "source": [
        "# Define a function to calculate the WCSS\n",
        "def calculate_wcss(data, centroids, labels):\n",
        "    wcss = 0\n",
        "    for i in range(len(data)):\n",
        "        centroid = centroids[labels[i]]\n",
        "        distance = np.linalg.norm(data[i] - centroid)\n",
        "        wcss += distance ** 2\n",
        "    return wcss / len(data)\n",
        "\n",
        "#  Compute the WCSS values for a range of cluster numbers\n",
        "wcss_values = []\n",
        "for k in range(1, 11):\n",
        "    centroids = np.random.rand(k, 2)  # Initialize centroids randomly\n",
        "    labels = np.zeros(len(data), dtype=int)  # Initialize labels as zeros\n",
        "    for _ in range(10):  # Run k-means for 10 iterations\n",
        "        # Assign each data point to its closest centroid\n",
        "        for i in range(len(data)):\n",
        "            distances = np.linalg.norm(data[i] - centroids, axis=1)\n",
        "            labels[i] = np.argmin(distances)\n",
        "        # Update the centroids to the mean of their assigned points\n",
        "        for j in range(k):\n",
        "            points = data[labels == j]\n",
        "            if len(points) > 0:\n",
        "                centroids[j] = np.mean(points, axis=0)\n",
        "        # Calculate the WCSS for the current iteration\n",
        "        wcss = calculate_wcss(data, centroids, labels)\n",
        "    wcss_values.append(wcss)\n",
        "\n",
        "# Plot the WCSS values against the number of clusters\n",
        "plt.plot(range(1, 11), wcss_values, marker='o')\n",
        "plt.xlabel('Number of clusters')\n",
        "plt.ylabel('WCSS')\n",
        "plt.show()\n",
        "\n",
        "# Identify the elbow point\n",
        "second_derivatives = np.gradient(np.gradient(wcss_values))\n",
        "elbow_point = np.argmax(second_derivatives < 1e-4) + 1\n",
        "\n",
        "# Choose the optimal number of clusters\n",
        "print(f'The optimal number of clusters is {elbow_point}')"
      ],
      "metadata": {
        "colab": {
          "base_uri": "https://localhost:8080/",
          "height": 466
        },
        "id": "iyiHhBvb0s8i",
        "outputId": "fb2a9ea0-3c14-4dd5-ee94-b26c6955acd0"
      },
      "execution_count": null,
      "outputs": [
        {
          "output_type": "display_data",
          "data": {
            "text/plain": [
              "<Figure size 640x480 with 1 Axes>"
            ],
            "image/png": "[encoded data removed]"
          },
          "metadata": {}
        },
        {
          "output_type": "stream",
          "name": "stdout",
          "text": [
            "The optimal number of clusters is 6\n"
          ]
        }
      ]
    },
    {
      "cell_type": "code",
      "source": [
        "df2.columns=['x','y']"
      ],
      "metadata": {
        "id": "A-vBqikZ1EeC"
      },
      "execution_count": null,
      "outputs": []
    },
    {
      "cell_type": "code",
      "source": [
        "# Running K-Means Clustering with desired number of cluster\n",
        "import random\n",
        "import math\n",
        "import pandas as pd\n",
        "import matplotlib.pyplot as plt\n",
        "\n",
        "# Define the k-means clustering algorithm\n",
        "def kmeans(df2, k, iterations=100):\n",
        "    # Initialize k random centroids\n",
        "    centroids = []\n",
        "    for i in range(k):\n",
        "        centroid = [random.uniform(min(df2[x]), max(df2[x])) for x in df2.columns]\n",
        "        centroids.append(centroid)\n",
        "    \n",
        "    # Perform k-means clustering\n",
        "    for i in range(iterations):\n",
        "        # Assign each data point to the nearest centroid\n",
        "        clusters = {}\n",
        "        for j in range(k):\n",
        "            clusters[j] = []\n",
        "        for index, row in df2.iterrows():\n",
        "            distances = [math.sqrt(sum([(row[x]-centroids[j][x])**2 for x in range(len(row))])) for j in range(k)]\n",
        "            cluster_index = distances.index(min(distances))\n",
        "            clusters[cluster_index].append(index)\n",
        "        \n",
        "        # Update the centroids\n",
        "        for j in range(k):\n",
        "            if clusters[j]:\n",
        "                centroids[j] = [sum(df2.iloc[clusters[j]][x])/len(clusters[j]) for x in df2.columns]\n",
        "    \n",
        "    # Return the cluster assignments and final centroids\n",
        "    return clusters, centroids\n",
        "\n",
        "\n",
        "clusters, centroids = kmeans(df2, elbow_point)"
      ],
      "metadata": {
        "id": "mVdfKYo-1JkN"
      },
      "execution_count": null,
      "outputs": []
    },
    {
      "cell_type": "code",
      "source": [
        "print(f'Total Points in Dataset {len(df2)}')\n",
        "for i in range(elbow_point):\n",
        "  print(f'Cluster {i+1} has {len(clusters[i])} data points')"
      ],
      "metadata": {
        "colab": {
          "base_uri": "https://localhost:8080/"
        },
        "id": "6E6ywgyv1hFM",
        "outputId": "42358161-266d-41aa-a6f5-e4867ad156fb"
      },
      "execution_count": null,
      "outputs": [
        {
          "output_type": "stream",
          "name": "stdout",
          "text": [
            "Total Points in Dataset 1350\n",
            "Cluster 1 has 52 data points\n",
            "Cluster 2 has 50 data points\n",
            "Cluster 3 has 742 data points\n",
            "Cluster 4 has 224 data points\n",
            "Cluster 5 has 116 data points\n",
            "Cluster 6 has 166 data points\n"
          ]
        }
      ]
    },
    {
      "cell_type": "code",
      "source": [
        "# Plot the clustered data\n",
        "colors = ['red','blue','green','orange','purple','black','gray','pink','brown','teal']\n",
        "for i in range(len(clusters)):\n",
        "    for j in clusters[i]:\n",
        "        plt.scatter(df2['x'][j], df2['y'][j],s=5,color=colors[i])\n",
        "    \n",
        "for centroid in centroids:\n",
        "    plt.scatter(centroid[0], centroid[1],color='k', marker='x')\n",
        "\n",
        "print(centroids)\n",
        "print(clusters)\n",
        "plt.xlabel(columns[0])\n",
        "plt.ylabel(columns[1])\n",
        "plt.show()"
      ],
      "metadata": {
        "colab": {
          "base_uri": "https://localhost:8080/",
          "height": 503
        },
        "id": "Wuk7_UPw1nqc",
        "outputId": "d8622789-b365-4360-9cda-82ad62b7d67e"
      },
      "execution_count": null,
      "outputs": [
        {
          "output_type": "stream",
          "name": "stdout",
          "text": [
            "[[1.0, 0.6298076923076923], [0.0, 0.635], [2.0, 0.4973045822102426], [3.0, 0.7779017857142857], [1.0, 0.1206896551724138], [0.0, 0.0783132530120482]]\n",
            "{0: [19, 29, 53, 60, 76, 87, 95, 134, 191, 199, 240, 275, 278, 289, 297, 302, 312, 329, 343, 368, 395, 402, 416, 457, 476, 605, 618, 622, 642, 643, 717, 740, 741, 745, 913, 915, 965, 970, 1019, 1061, 1067, 1068, 1069, 1070, 1087, 1137, 1181, 1184, 1186, 1267, 1323, 1336], 1: [9, 21, 22, 27, 105, 113, 129, 130, 142, 161, 175, 182, 211, 213, 217, 220, 226, 239, 243, 252, 261, 262, 264, 274, 276, 281, 282, 284, 292, 294, 304, 310, 314, 326, 332, 367, 371, 397, 471, 742, 763, 767, 874, 1031, 1066, 1077, 1088, 1090, 1346, 1348], 2: [0, 1, 2, 3, 4, 6, 10, 11, 12, 15, 18, 20, 24, 25, 28, 30, 32, 33, 37, 38, 39, 41, 42, 43, 44, 45, 47, 48, 51, 54, 57, 58, 62, 63, 65, 66, 67, 68, 72, 73, 74, 75, 77, 78, 79, 80, 81, 85, 88, 89, 90, 91, 93, 94, 97, 100, 104, 106, 107, 108, 109, 110, 111, 112, 114, 115, 117, 118, 120, 123, 124, 127, 128, 131, 132, 133, 135, 136, 137, 139, 141, 143, 144, 145, 149, 150, 151, 152, 153, 155, 156, 157, 158, 159, 162, 166, 167, 168, 172, 174, 177, 178, 180, 181, 183, 184, 185, 186, 187, 188, 189, 194, 196, 197, 198, 201, 202, 203, 205, 206, 207, 209, 212, 214, 216, 218, 221, 222, 223, 224, 229, 230, 233, 234, 235, 236, 238, 242, 245, 247, 248, 249, 250, 251, 253, 255, 257, 260, 266, 267, 269, 271, 272, 277, 279, 283, 286, 290, 293, 296, 298, 300, 301, 305, 307, 308, 309, 311, 315, 323, 327, 328, 331, 333, 334, 338, 339, 341, 342, 344, 349, 350, 351, 354, 356, 359, 361, 362, 363, 366, 369, 370, 372, 374, 377, 378, 379, 380, 381, 383, 384, 389, 390, 391, 393, 396, 398, 399, 401, 403, 404, 405, 408, 413, 417, 421, 422, 424, 427, 429, 432, 435, 445, 448, 449, 450, 452, 453, 454, 456, 458, 459, 461, 462, 463, 465, 470, 472, 474, 475, 477, 478, 479, 483, 484, 485, 486, 489, 490, 491, 493, 494, 495, 496, 497, 498, 499, 500, 503, 504, 505, 506, 507, 509, 510, 516, 517, 518, 519, 520, 521, 522, 524, 525, 526, 527, 528, 530, 531, 532, 533, 535, 536, 537, 539, 540, 541, 542, 543, 544, 549, 550, 551, 552, 553, 554, 555, 557, 558, 559, 560, 561, 562, 564, 565, 567, 569, 570, 571, 572, 573, 574, 575, 576, 577, 578, 579, 580, 581, 582, 586, 587, 589, 590, 591, 592, 593, 594, 595, 597, 598, 600, 602, 603, 604, 607, 608, 612, 613, 616, 617, 619, 620, 621, 623, 627, 628, 629, 630, 631, 632, 633, 634, 636, 637, 639, 641, 644, 645, 646, 647, 648, 649, 650, 651, 653, 659, 661, 663, 664, 665, 668, 669, 670, 671, 673, 676, 677, 678, 681, 682, 683, 684, 685, 686, 687, 689, 690, 693, 695, 696, 697, 698, 699, 700, 702, 703, 704, 708, 709, 710, 712, 713, 714, 715, 716, 721, 726, 728, 729, 730, 731, 732, 734, 735, 736, 739, 743, 747, 748, 750, 752, 757, 758, 760, 762, 765, 766, 771, 772, 773, 774, 778, 781, 782, 783, 784, 786, 787, 788, 790, 792, 793, 794, 796, 800, 801, 802, 803, 804, 806, 807, 808, 809, 811, 812, 818, 820, 821, 822, 823, 826, 827, 832, 838, 840, 841, 842, 844, 847, 850, 852, 854, 855, 858, 860, 862, 863, 865, 868, 869, 870, 871, 872, 875, 881, 883, 884, 885, 886, 887, 888, 889, 890, 892, 893, 894, 896, 903, 904, 905, 906, 908, 909, 910, 911, 914, 921, 923, 925, 927, 929, 930, 932, 933, 934, 937, 939, 941, 943, 946, 947, 950, 952, 953, 958, 959, 964, 967, 968, 971, 973, 974, 976, 977, 979, 980, 981, 982, 983, 986, 987, 988, 992, 993, 995, 997, 998, 999, 1000, 1003, 1004, 1005, 1006, 1007, 1008, 1010, 1011, 1013, 1014, 1015, 1016, 1017, 1018, 1021, 1022, 1023, 1026, 1028, 1032, 1033, 1034, 1035, 1036, 1037, 1040, 1041, 1042, 1043, 1045, 1046, 1048, 1052, 1053, 1055, 1056, 1058, 1059, 1062, 1063, 1064, 1065, 1072, 1074, 1075, 1076, 1079, 1080, 1082, 1083, 1085, 1086, 1091, 1093, 1095, 1096, 1098, 1099, 1100, 1101, 1102, 1103, 1104, 1105, 1106, 1108, 1109, 1111, 1113, 1115, 1116, 1117, 1120, 1121, 1122, 1123, 1124, 1125, 1128, 1131, 1133, 1134, 1135, 1136, 1139, 1140, 1142, 1143, 1145, 1146, 1147, 1149, 1150, 1152, 1153, 1155, 1156, 1157, 1159, 1161, 1162, 1163, 1166, 1170, 1172, 1173, 1174, 1175, 1176, 1177, 1178, 1180, 1183, 1185, 1187, 1190, 1191, 1192, 1193, 1195, 1198, 1199, 1200, 1202, 1203, 1206, 1210, 1211, 1213, 1214, 1215, 1217, 1224, 1229, 1230, 1231, 1241, 1244, 1246, 1247, 1248, 1249, 1251, 1253, 1256, 1258, 1261, 1263, 1265, 1266, 1268, 1278, 1281, 1282, 1283, 1285, 1288, 1290, 1291, 1294, 1297, 1298, 1299, 1300, 1301, 1302, 1304, 1305, 1306, 1309, 1313, 1314, 1315, 1316, 1319, 1320, 1322, 1326, 1328, 1330, 1331, 1332, 1333, 1335, 1337, 1339, 1341, 1342, 1343, 1344, 1345, 1349], 3: [5, 26, 31, 35, 46, 49, 50, 52, 56, 59, 61, 64, 69, 70, 82, 83, 84, 86, 96, 98, 99, 101, 102, 103, 116, 121, 125, 126, 138, 140, 146, 147, 160, 163, 165, 169, 170, 171, 173, 190, 192, 193, 195, 204, 208, 215, 225, 227, 231, 232, 237, 241, 244, 246, 254, 258, 259, 263, 265, 268, 270, 273, 280, 285, 287, 288, 291, 295, 306, 313, 319, 320, 330, 345, 346, 347, 360, 365, 386, 407, 430, 437, 444, 446, 455, 460, 473, 487, 492, 501, 502, 511, 513, 514, 523, 538, 547, 568, 583, 599, 601, 610, 615, 624, 625, 626, 635, 658, 666, 672, 675, 688, 705, 722, 738, 746, 749, 775, 785, 795, 798, 805, 819, 825, 834, 837, 864, 891, 895, 897, 898, 919, 960, 989, 1030, 1038, 1078, 1092, 1097, 1107, 1114, 1118, 1127, 1132, 1138, 1141, 1148, 1158, 1164, 1168, 1169, 1171, 1179, 1182, 1189, 1194, 1196, 1201, 1204, 1205, 1207, 1209, 1216, 1218, 1219, 1220, 1221, 1222, 1223, 1225, 1226, 1228, 1232, 1233, 1234, 1235, 1236, 1237, 1238, 1239, 1240, 1242, 1243, 1245, 1250, 1252, 1254, 1255, 1257, 1259, 1260, 1264, 1269, 1270, 1271, 1273, 1274, 1275, 1277, 1279, 1280, 1284, 1286, 1287, 1289, 1292, 1293, 1295, 1303, 1307, 1308, 1311, 1312, 1317, 1318, 1321, 1324, 1325, 1327, 1329, 1334, 1338, 1340, 1347], 4: [7, 14, 16, 55, 71, 92, 122, 164, 210, 299, 317, 321, 324, 337, 348, 358, 375, 376, 394, 410, 433, 436, 451, 466, 468, 481, 482, 508, 512, 515, 534, 546, 548, 556, 563, 566, 585, 588, 596, 606, 609, 611, 614, 638, 640, 652, 654, 655, 660, 674, 679, 691, 692, 719, 720, 724, 727, 733, 737, 754, 755, 761, 768, 769, 777, 797, 799, 810, 814, 815, 817, 824, 828, 829, 833, 835, 836, 843, 845, 848, 856, 899, 900, 901, 912, 922, 940, 942, 944, 949, 966, 978, 984, 996, 1001, 1009, 1012, 1024, 1039, 1044, 1047, 1049, 1050, 1051, 1110, 1112, 1126, 1129, 1144, 1188, 1197, 1208, 1212, 1227, 1272, 1276], 5: [8, 13, 17, 23, 34, 36, 40, 119, 148, 154, 176, 179, 200, 219, 228, 256, 303, 316, 318, 322, 325, 335, 336, 340, 352, 353, 355, 357, 364, 373, 382, 385, 387, 388, 392, 400, 406, 409, 411, 412, 414, 415, 418, 419, 420, 423, 425, 426, 428, 431, 434, 438, 439, 440, 441, 442, 443, 447, 464, 467, 469, 480, 488, 529, 545, 584, 656, 657, 662, 667, 680, 694, 701, 706, 707, 711, 718, 723, 725, 744, 751, 753, 756, 759, 764, 770, 776, 779, 780, 789, 791, 813, 816, 830, 831, 839, 846, 849, 851, 853, 857, 859, 861, 866, 867, 873, 876, 877, 878, 879, 880, 882, 902, 907, 916, 917, 918, 920, 924, 926, 928, 931, 935, 936, 938, 945, 948, 951, 954, 955, 956, 957, 961, 962, 963, 969, 972, 975, 985, 990, 991, 994, 1002, 1020, 1025, 1027, 1029, 1054, 1057, 1060, 1071, 1073, 1081, 1084, 1089, 1094, 1119, 1130, 1151, 1154, 1160, 1165, 1167, 1262, 1296, 1310]}\n"
          ]
        },
        {
          "output_type": "display_data",
          "data": {
            "text/plain": [
              "<Figure size 640x480 with 1 Axes>"
            ],
            "image/png": "[encoded data removed]"
          },
          "metadata": {}
        }
      ]
    },
    {
      "cell_type": "markdown",
      "source": [
        "# <font size=6>Data Analysis: Association Rule Mining (Apriori Algorithm)</font>\n",
        "\n",
        "\n",
        "\n",
        "\n",
        "We use Apriori Algorithm to generate frequent itemsets and association rules with specific min support and min confidence levels"
      ],
      "metadata": {
        "id": "QJtOVgDL2jNz"
      }
    },
    {
      "cell_type": "code",
      "source": [
        "# Creating a dataframe that contain columns related to Contraception Awarness\n",
        "# Dropping the Zone Column\n",
        "df = pd.read_csv('working_dataset.csv')\n",
        "df.columns = new_column_names\n",
        "df4 = df[attributes_child_health]\n",
        "df4 = df4.drop(['Zone'], axis=1)\n",
        "\n",
        "## Dataframe converted to List\n",
        "columns = df4.columns\n",
        "df4 = df4.values\n",
        "df4 = df4.tolist()\n",
        "\n",
        "## each item of the list converted from value -> column name + value\n",
        "for i in df4:\n",
        "  for j in range(len(i)):\n",
        "    i[j] = f'{columns[j]} {i[j]}'\n",
        "\n",
        "# Generated List View\n",
        "print(df4[0])"
      ],
      "metadata": {
        "colab": {
          "base_uri": "https://localhost:8080/"
        },
        "id": "fkPoV_a_2oxS",
        "outputId": "fb11d634-8e35-4e75-aaa5-1dfe44e6730d"
      },
      "execution_count": null,
      "outputs": [
        {
          "output_type": "stream",
          "name": "stdout",
          "text": [
            "['State 1.0', 'Place Of Residence 2.0', 'Highest Education Level 2.0', 'Wealth Index Combined 0.75', 'Total Children Born 2.0', 'Size of Child at Birth 0.0', 'Drink Alcohol 0.0', 'Smokes 0.0', 'Anemia Level 3.0', 'Ever had a terminated pregnancy 0.0', 'Age of Respondant at first birth 26.0', 'Heard about family planning 1.0']\n"
          ]
        }
      ]
    },
    {
      "cell_type": "code",
      "source": [
        "## generating iterator of the list which is used later \n",
        "def GetRecords(df4):\n",
        "  for a in df4:\n",
        "    yield(frozenset(a))\n",
        "\n",
        "data = GetRecords(df4)"
      ],
      "metadata": {
        "id": "g7a33lgf2-jV"
      },
      "execution_count": null,
      "outputs": []
    },
    {
      "cell_type": "markdown",
      "source": [
        "Function that generates itemsets and rules for the given data with min support and min confidence levels"
      ],
      "metadata": {
        "id": "J2V062GypIOe"
      }
    },
    {
      "cell_type": "code",
      "source": [
        "frequent_itemsets, association_rules = apriori(data, 0.4, 0.9)"
      ],
      "metadata": {
        "id": "TyKKv61g3hVo"
      },
      "execution_count": null,
      "outputs": []
    },
    {
      "cell_type": "code",
      "source": [
        "# printing all the generated frequent itemsets\n",
        "for a in frequent_itemsets:\n",
        "  print(a)"
      ],
      "metadata": {
        "colab": {
          "base_uri": "https://localhost:8080/"
        },
        "id": "kpKFnkzF3n1i",
        "outputId": "eaca87dc-79c1-4205-8f50-b3e09a923f77"
      },
      "execution_count": null,
      "outputs": [
        {
          "output_type": "stream",
          "name": "stdout",
          "text": [
            "(('Place Of Residence 2.0',), 0.7614814814814815)\n",
            "(('Ever had a terminated pregnancy 0.0',), 0.8474074074074074)\n",
            "(('Size of Child at Birth 0.5',), 0.7555555555555555)\n",
            "(('Drink Alcohol 0.0',), 0.9725925925925926)\n",
            "(('Anemia Level 4.0',), 0.4237037037037037)\n",
            "(('Heard about family planning 1.0',), 0.5459259259259259)\n",
            "(('Smokes 0.0',), 0.997037037037037)\n",
            "(('Heard about family planning 0.0',), 0.4540740740740741)\n",
            "(('Highest Education Level 2.0',), 0.5496296296296296)\n",
            "(('Total Children Born 2.0',), 0.42592592592592593)\n",
            "(('Ever had a terminated pregnancy 0.0', 'Size of Child at Birth 0.5'), 0.6474074074074074)\n",
            "(('Highest Education Level 2.0', 'Place Of Residence 2.0'), 0.4274074074074074)\n",
            "(('Drink Alcohol 0.0', 'Place Of Residence 2.0'), 0.737037037037037)\n",
            "(('Smokes 0.0', 'Ever had a terminated pregnancy 0.0'), 0.8444444444444444)\n",
            "(('Smokes 0.0', 'Total Children Born 2.0'), 0.42518518518518517)\n",
            "(('Drink Alcohol 0.0', 'Heard about family planning 1.0'), 0.5370370370370371)\n",
            "(('Drink Alcohol 0.0', 'Heard about family planning 0.0'), 0.43555555555555553)\n",
            "(('Drink Alcohol 0.0', 'Highest Education Level 2.0'), 0.54)\n",
            "(('Size of Child at Birth 0.5', 'Place Of Residence 2.0'), 0.5733333333333334)\n",
            "(('Highest Education Level 2.0', 'Size of Child at Birth 0.5'), 0.42518518518518517)\n",
            "(('Size of Child at Birth 0.5', 'Heard about family planning 1.0'), 0.41185185185185186)\n",
            "(('Ever had a terminated pregnancy 0.0', 'Drink Alcohol 0.0'), 0.8237037037037037)\n",
            "(('Drink Alcohol 0.0', 'Anemia Level 4.0'), 0.4140740740740741)\n",
            "(('Smokes 0.0', 'Size of Child at Birth 0.5'), 0.7533333333333333)\n",
            "(('Smokes 0.0', 'Heard about family planning 0.0'), 0.4525925925925926)\n",
            "(('Smokes 0.0', 'Drink Alcohol 0.0'), 0.9703703703703703)\n",
            "(('Drink Alcohol 0.0', 'Total Children Born 2.0'), 0.41555555555555557)\n",
            "(('Smokes 0.0', 'Place Of Residence 2.0'), 0.7585185185185185)\n",
            "(('Ever had a terminated pregnancy 0.0', 'Highest Education Level 2.0'), 0.46444444444444444)\n",
            "(('Smokes 0.0', 'Heard about family planning 1.0'), 0.5444444444444444)\n",
            "(('Ever had a terminated pregnancy 0.0', 'Heard about family planning 1.0'), 0.4674074074074074)\n",
            "(('Ever had a terminated pregnancy 0.0', 'Place Of Residence 2.0'), 0.6503703703703704)\n",
            "(('Smokes 0.0', 'Highest Education Level 2.0'), 0.5481481481481482)\n",
            "(('Smokes 0.0', 'Anemia Level 4.0'), 0.42074074074074075)\n",
            "(('Heard about family planning 1.0', 'Place Of Residence 2.0'), 0.4)\n",
            "(('Drink Alcohol 0.0', 'Size of Child at Birth 0.5'), 0.7355555555555555)\n",
            "(('Smokes 0.0', 'Drink Alcohol 0.0', 'Heard about family planning 0.0'), 0.43407407407407406)\n",
            "(('Smokes 0.0', 'Ever had a terminated pregnancy 0.0', 'Heard about family planning 1.0'), 0.4659259259259259)\n",
            "(('Ever had a terminated pregnancy 0.0', 'Drink Alcohol 0.0', 'Size of Child at Birth 0.5'), 0.6303703703703704)\n",
            "(('Smokes 0.0', 'Ever had a terminated pregnancy 0.0', 'Place Of Residence 2.0'), 0.6474074074074074)\n",
            "(('Drink Alcohol 0.0', 'Size of Child at Birth 0.5', 'Heard about family planning 1.0'), 0.40444444444444444)\n",
            "(('Smokes 0.0', 'Drink Alcohol 0.0', 'Total Children Born 2.0'), 0.4148148148148148)\n",
            "(('Drink Alcohol 0.0', 'Highest Education Level 2.0', 'Place Of Residence 2.0'), 0.4185185185185185)\n",
            "(('Smokes 0.0', 'Ever had a terminated pregnancy 0.0', 'Drink Alcohol 0.0'), 0.8214814814814815)\n",
            "(('Smokes 0.0', 'Ever had a terminated pregnancy 0.0', 'Highest Education Level 2.0'), 0.46296296296296297)\n",
            "(('Drink Alcohol 0.0', 'Highest Education Level 2.0', 'Size of Child at Birth 0.5'), 0.4185185185185185)\n",
            "(('Smokes 0.0', 'Highest Education Level 2.0', 'Place Of Residence 2.0'), 0.42592592592592593)\n",
            "(('Drink Alcohol 0.0', 'Size of Child at Birth 0.5', 'Place Of Residence 2.0'), 0.5555555555555556)\n",
            "(('Smokes 0.0', 'Ever had a terminated pregnancy 0.0', 'Size of Child at Birth 0.5'), 0.6451851851851852)\n",
            "(('Smokes 0.0', 'Size of Child at Birth 0.5', 'Place Of Residence 2.0'), 0.5711111111111111)\n",
            "(('Smokes 0.0', 'Drink Alcohol 0.0', 'Size of Child at Birth 0.5'), 0.7333333333333333)\n",
            "(('Smokes 0.0', 'Size of Child at Birth 0.5', 'Heard about family planning 1.0'), 0.4111111111111111)\n",
            "(('Drink Alcohol 0.0', 'Ever had a terminated pregnancy 0.0', 'Heard about family planning 1.0'), 0.45925925925925926)\n",
            "(('Ever had a terminated pregnancy 0.0', 'Size of Child at Birth 0.5', 'Place Of Residence 2.0'), 0.4948148148148148)\n",
            "(('Smokes 0.0', 'Highest Education Level 2.0', 'Size of Child at Birth 0.5'), 0.4237037037037037)\n",
            "(('Drink Alcohol 0.0', 'Ever had a terminated pregnancy 0.0', 'Place Of Residence 2.0'), 0.6288888888888889)\n",
            "(('Smokes 0.0', 'Drink Alcohol 0.0', 'Highest Education Level 2.0'), 0.5385185185185185)\n",
            "(('Smokes 0.0', 'Drink Alcohol 0.0', 'Anemia Level 4.0'), 0.41185185185185186)\n",
            "(('Smokes 0.0', 'Drink Alcohol 0.0', 'Place Of Residence 2.0'), 0.7348148148148148)\n",
            "(('Drink Alcohol 0.0', 'Highest Education Level 2.0', 'Ever had a terminated pregnancy 0.0'), 0.4577777777777778)\n",
            "(('Smokes 0.0', 'Drink Alcohol 0.0', 'Heard about family planning 1.0'), 0.5362962962962963)\n",
            "(('Size of Child at Birth 0.5', 'Heard about family planning 1.0', 'Smokes 0.0', 'Drink Alcohol 0.0'), 0.40370370370370373)\n",
            "(('Smokes 0.0', 'Drink Alcohol 0.0', 'Highest Education Level 2.0', 'Place Of Residence 2.0'), 0.41703703703703704)\n",
            "(('Size of Child at Birth 0.5', 'Smokes 0.0', 'Drink Alcohol 0.0', 'Place Of Residence 2.0'), 0.5533333333333333)\n",
            "(('Ever had a terminated pregnancy 0.0', 'Heard about family planning 1.0', 'Smokes 0.0', 'Drink Alcohol 0.0'), 0.4585185185185185)\n",
            "(('Ever had a terminated pregnancy 0.0', 'Size of Child at Birth 0.5', 'Drink Alcohol 0.0', 'Place Of Residence 2.0'), 0.48)\n",
            "(('Size of Child at Birth 0.5', 'Smokes 0.0', 'Drink Alcohol 0.0', 'Highest Education Level 2.0'), 0.41703703703703704)\n",
            "(('Ever had a terminated pregnancy 0.0', 'Size of Child at Birth 0.5', 'Smokes 0.0', 'Place Of Residence 2.0'), 0.4925925925925926)\n",
            "(('Ever had a terminated pregnancy 0.0', 'Smokes 0.0', 'Drink Alcohol 0.0', 'Place Of Residence 2.0'), 0.6266666666666667)\n",
            "(('Ever had a terminated pregnancy 0.0', 'Smokes 0.0', 'Drink Alcohol 0.0', 'Highest Education Level 2.0'), 0.4562962962962963)\n",
            "(('Ever had a terminated pregnancy 0.0', 'Size of Child at Birth 0.5', 'Smokes 0.0', 'Drink Alcohol 0.0'), 0.6281481481481481)\n",
            "(('Ever had a terminated pregnancy 0.0', 'Drink Alcohol 0.0', 'Place Of Residence 2.0', 'Size of Child at Birth 0.5', 'Smokes 0.0'), 0.4777777777777778)\n"
          ]
        }
      ]
    },
    {
      "cell_type": "code",
      "source": [
        "# printing all the generated associtaion rules\n",
        "for a in association_rules:\n",
        "  rule = a[0]\n",
        "  antecedent = rule[0]\n",
        "  consequent = rule[1]\n",
        "  print(str(antecedent)+' -> '+str(consequent))\n",
        "  conf = a[1]\n",
        "  print('Confidence is: '+str(conf))\n",
        "  print('\\n')"
      ],
      "metadata": {
        "colab": {
          "base_uri": "https://localhost:8080/"
        },
        "id": "RyW7xyMN3xat",
        "outputId": "3a0894bb-3127-4e62-c378-1ad1bd912ebb"
      },
      "execution_count": null,
      "outputs": [
        {
          "output_type": "stream",
          "name": "stdout",
          "text": [
            "('Place Of Residence 2.0',) -> ('Drink Alcohol 0.0',)\n",
            "Confidence is: 0.9678988326848248\n",
            "\n",
            "\n",
            "('Ever had a terminated pregnancy 0.0',) -> ('Smokes 0.0',)\n",
            "Confidence is: 0.9965034965034966\n",
            "\n",
            "\n",
            "('Total Children Born 2.0',) -> ('Smokes 0.0',)\n",
            "Confidence is: 0.9982608695652173\n",
            "\n",
            "\n",
            "('Heard about family planning 1.0',) -> ('Drink Alcohol 0.0',)\n",
            "Confidence is: 0.983717774762551\n",
            "\n",
            "\n",
            "('Heard about family planning 0.0',) -> ('Drink Alcohol 0.0',)\n",
            "Confidence is: 0.9592169657422511\n",
            "\n",
            "\n",
            "('Highest Education Level 2.0',) -> ('Drink Alcohol 0.0',)\n",
            "Confidence is: 0.982479784366577\n",
            "\n",
            "\n",
            "('Ever had a terminated pregnancy 0.0',) -> ('Drink Alcohol 0.0',)\n",
            "Confidence is: 0.9720279720279721\n",
            "\n",
            "\n",
            "('Anemia Level 4.0',) -> ('Drink Alcohol 0.0',)\n",
            "Confidence is: 0.9772727272727273\n",
            "\n",
            "\n",
            "('Size of Child at Birth 0.5',) -> ('Smokes 0.0',)\n",
            "Confidence is: 0.9970588235294118\n",
            "\n",
            "\n",
            "('Heard about family planning 0.0',) -> ('Smokes 0.0',)\n",
            "Confidence is: 0.9967373572593801\n",
            "\n",
            "\n",
            "('Smokes 0.0',) -> ('Drink Alcohol 0.0',)\n",
            "Confidence is: 0.9732540861812778\n",
            "\n",
            "\n",
            "('Drink Alcohol 0.0',) -> ('Smokes 0.0',)\n",
            "Confidence is: 0.9977151561309977\n",
            "\n",
            "\n",
            "('Total Children Born 2.0',) -> ('Drink Alcohol 0.0',)\n",
            "Confidence is: 0.9756521739130435\n",
            "\n",
            "\n",
            "('Place Of Residence 2.0',) -> ('Smokes 0.0',)\n",
            "Confidence is: 0.9961089494163423\n",
            "\n",
            "\n",
            "('Heard about family planning 1.0',) -> ('Smokes 0.0',)\n",
            "Confidence is: 0.9972862957937584\n",
            "\n",
            "\n",
            "('Highest Education Level 2.0',) -> ('Smokes 0.0',)\n",
            "Confidence is: 0.9973045822102427\n",
            "\n",
            "\n",
            "('Anemia Level 4.0',) -> ('Smokes 0.0',)\n",
            "Confidence is: 0.993006993006993\n",
            "\n",
            "\n",
            "('Size of Child at Birth 0.5',) -> ('Drink Alcohol 0.0',)\n",
            "Confidence is: 0.9735294117647059\n",
            "\n",
            "\n",
            "('Heard about family planning 0.0',) -> ('Smokes 0.0', 'Drink Alcohol 0.0')\n",
            "Confidence is: 0.9559543230016313\n",
            "\n",
            "\n",
            "('Smokes 0.0', 'Heard about family planning 0.0') -> ('Drink Alcohol 0.0',)\n",
            "Confidence is: 0.9590834697217675\n",
            "\n",
            "\n",
            "('Drink Alcohol 0.0', 'Heard about family planning 0.0') -> ('Smokes 0.0',)\n",
            "Confidence is: 0.9965986394557823\n",
            "\n",
            "\n",
            "('Ever had a terminated pregnancy 0.0', 'Heard about family planning 1.0') -> ('Smokes 0.0',)\n",
            "Confidence is: 0.9968304278922345\n",
            "\n",
            "\n",
            "('Ever had a terminated pregnancy 0.0', 'Size of Child at Birth 0.5') -> ('Drink Alcohol 0.0',)\n",
            "Confidence is: 0.9736842105263157\n",
            "\n",
            "\n",
            "('Ever had a terminated pregnancy 0.0', 'Place Of Residence 2.0') -> ('Smokes 0.0',)\n",
            "Confidence is: 0.9954441913439636\n",
            "\n",
            "\n",
            "('Size of Child at Birth 0.5', 'Heard about family planning 1.0') -> ('Drink Alcohol 0.0',)\n",
            "Confidence is: 0.9820143884892086\n",
            "\n",
            "\n",
            "('Total Children Born 2.0',) -> ('Smokes 0.0', 'Drink Alcohol 0.0')\n",
            "Confidence is: 0.9739130434782608\n",
            "\n",
            "\n",
            "('Smokes 0.0', 'Total Children Born 2.0') -> ('Drink Alcohol 0.0',)\n",
            "Confidence is: 0.975609756097561\n",
            "\n",
            "\n",
            "('Drink Alcohol 0.0', 'Total Children Born 2.0') -> ('Smokes 0.0',)\n",
            "Confidence is: 0.9982174688057041\n",
            "\n",
            "\n",
            "('Highest Education Level 2.0', 'Place Of Residence 2.0') -> ('Drink Alcohol 0.0',)\n",
            "Confidence is: 0.9792027729636048\n",
            "\n",
            "\n",
            "('Ever had a terminated pregnancy 0.0',) -> ('Smokes 0.0', 'Drink Alcohol 0.0')\n",
            "Confidence is: 0.9694055944055944\n",
            "\n",
            "\n",
            "('Smokes 0.0', 'Ever had a terminated pregnancy 0.0') -> ('Drink Alcohol 0.0',)\n",
            "Confidence is: 0.9728070175438597\n",
            "\n",
            "\n",
            "('Ever had a terminated pregnancy 0.0', 'Drink Alcohol 0.0') -> ('Smokes 0.0',)\n",
            "Confidence is: 0.9973021582733813\n",
            "\n",
            "\n",
            "('Ever had a terminated pregnancy 0.0', 'Highest Education Level 2.0') -> ('Smokes 0.0',)\n",
            "Confidence is: 0.9968102073365231\n",
            "\n",
            "\n",
            "('Highest Education Level 2.0', 'Size of Child at Birth 0.5') -> ('Drink Alcohol 0.0',)\n",
            "Confidence is: 0.9843205574912892\n",
            "\n",
            "\n",
            "('Highest Education Level 2.0', 'Place Of Residence 2.0') -> ('Smokes 0.0',)\n",
            "Confidence is: 0.9965337954939342\n",
            "\n",
            "\n",
            "('Size of Child at Birth 0.5', 'Place Of Residence 2.0') -> ('Drink Alcohol 0.0',)\n",
            "Confidence is: 0.9689922480620154\n",
            "\n",
            "\n",
            "('Ever had a terminated pregnancy 0.0', 'Size of Child at Birth 0.5') -> ('Smokes 0.0',)\n",
            "Confidence is: 0.9965675057208238\n",
            "\n",
            "\n",
            "('Size of Child at Birth 0.5', 'Place Of Residence 2.0') -> ('Smokes 0.0',)\n",
            "Confidence is: 0.9961240310077519\n",
            "\n",
            "\n",
            "('Size of Child at Birth 0.5',) -> ('Smokes 0.0', 'Drink Alcohol 0.0')\n",
            "Confidence is: 0.9705882352941176\n",
            "\n",
            "\n",
            "('Smokes 0.0', 'Size of Child at Birth 0.5') -> ('Drink Alcohol 0.0',)\n",
            "Confidence is: 0.9734513274336283\n",
            "\n",
            "\n",
            "('Drink Alcohol 0.0', 'Size of Child at Birth 0.5') -> ('Smokes 0.0',)\n",
            "Confidence is: 0.9969788519637462\n",
            "\n",
            "\n",
            "('Size of Child at Birth 0.5', 'Heard about family planning 1.0') -> ('Smokes 0.0',)\n",
            "Confidence is: 0.9982014388489208\n",
            "\n",
            "\n",
            "('Ever had a terminated pregnancy 0.0', 'Heard about family planning 1.0') -> ('Drink Alcohol 0.0',)\n",
            "Confidence is: 0.9825673534072901\n",
            "\n",
            "\n",
            "('Highest Education Level 2.0', 'Size of Child at Birth 0.5') -> ('Smokes 0.0',)\n",
            "Confidence is: 0.9965156794425087\n",
            "\n",
            "\n",
            "('Ever had a terminated pregnancy 0.0', 'Place Of Residence 2.0') -> ('Drink Alcohol 0.0',)\n",
            "Confidence is: 0.9669703872437359\n",
            "\n",
            "\n",
            "('Highest Education Level 2.0',) -> ('Smokes 0.0', 'Drink Alcohol 0.0')\n",
            "Confidence is: 0.9797843665768194\n",
            "\n",
            "\n",
            "('Smokes 0.0', 'Highest Education Level 2.0') -> ('Drink Alcohol 0.0',)\n",
            "Confidence is: 0.9824324324324324\n",
            "\n",
            "\n",
            "('Drink Alcohol 0.0', 'Highest Education Level 2.0') -> ('Smokes 0.0',)\n",
            "Confidence is: 0.9972565157750342\n",
            "\n",
            "\n",
            "('Anemia Level 4.0',) -> ('Smokes 0.0', 'Drink Alcohol 0.0')\n",
            "Confidence is: 0.9720279720279721\n",
            "\n",
            "\n",
            "('Smokes 0.0', 'Anemia Level 4.0') -> ('Drink Alcohol 0.0',)\n",
            "Confidence is: 0.9788732394366197\n",
            "\n",
            "\n",
            "('Drink Alcohol 0.0', 'Anemia Level 4.0') -> ('Smokes 0.0',)\n",
            "Confidence is: 0.9946332737030411\n",
            "\n",
            "\n",
            "('Place Of Residence 2.0',) -> ('Smokes 0.0', 'Drink Alcohol 0.0')\n",
            "Confidence is: 0.9649805447470816\n",
            "\n",
            "\n",
            "('Smokes 0.0', 'Place Of Residence 2.0') -> ('Drink Alcohol 0.0',)\n",
            "Confidence is: 0.96875\n",
            "\n",
            "\n",
            "('Drink Alcohol 0.0', 'Place Of Residence 2.0') -> ('Smokes 0.0',)\n",
            "Confidence is: 0.9969849246231156\n",
            "\n",
            "\n",
            "('Ever had a terminated pregnancy 0.0', 'Highest Education Level 2.0') -> ('Drink Alcohol 0.0',)\n",
            "Confidence is: 0.9856459330143541\n",
            "\n",
            "\n",
            "('Heard about family planning 1.0',) -> ('Smokes 0.0', 'Drink Alcohol 0.0')\n",
            "Confidence is: 0.9823609226594301\n",
            "\n",
            "\n",
            "('Smokes 0.0', 'Heard about family planning 1.0') -> ('Drink Alcohol 0.0',)\n",
            "Confidence is: 0.9850340136054422\n",
            "\n",
            "\n",
            "('Drink Alcohol 0.0', 'Heard about family planning 1.0') -> ('Smokes 0.0',)\n",
            "Confidence is: 0.9986206896551723\n",
            "\n",
            "\n",
            "('Size of Child at Birth 0.5', 'Heard about family planning 1.0') -> ('Smokes 0.0', 'Drink Alcohol 0.0')\n",
            "Confidence is: 0.9802158273381295\n",
            "\n",
            "\n",
            "('Smokes 0.0', 'Size of Child at Birth 0.5', 'Heard about family planning 1.0') -> ('Drink Alcohol 0.0',)\n",
            "Confidence is: 0.981981981981982\n",
            "\n",
            "\n",
            "('Drink Alcohol 0.0', 'Size of Child at Birth 0.5', 'Heard about family planning 1.0') -> ('Smokes 0.0',)\n",
            "Confidence is: 0.9981684981684983\n",
            "\n",
            "\n",
            "('Highest Education Level 2.0', 'Place Of Residence 2.0') -> ('Smokes 0.0', 'Drink Alcohol 0.0')\n",
            "Confidence is: 0.975736568457539\n",
            "\n",
            "\n",
            "('Smokes 0.0', 'Highest Education Level 2.0', 'Place Of Residence 2.0') -> ('Drink Alcohol 0.0',)\n",
            "Confidence is: 0.9791304347826086\n",
            "\n",
            "\n",
            "('Drink Alcohol 0.0', 'Highest Education Level 2.0', 'Place Of Residence 2.0') -> ('Smokes 0.0',)\n",
            "Confidence is: 0.9964601769911504\n",
            "\n",
            "\n",
            "('Size of Child at Birth 0.5', 'Place Of Residence 2.0') -> ('Smokes 0.0', 'Drink Alcohol 0.0')\n",
            "Confidence is: 0.9651162790697674\n",
            "\n",
            "\n",
            "('Smokes 0.0', 'Size of Child at Birth 0.5', 'Place Of Residence 2.0') -> ('Drink Alcohol 0.0',)\n",
            "Confidence is: 0.9688715953307393\n",
            "\n",
            "\n",
            "('Drink Alcohol 0.0', 'Size of Child at Birth 0.5', 'Place Of Residence 2.0') -> ('Smokes 0.0',)\n",
            "Confidence is: 0.996\n",
            "\n",
            "\n",
            "('Ever had a terminated pregnancy 0.0', 'Heard about family planning 1.0') -> ('Smokes 0.0', 'Drink Alcohol 0.0')\n",
            "Confidence is: 0.9809825673534073\n",
            "\n",
            "\n",
            "('Smokes 0.0', 'Ever had a terminated pregnancy 0.0', 'Heard about family planning 1.0') -> ('Drink Alcohol 0.0',)\n",
            "Confidence is: 0.9841017488076311\n",
            "\n",
            "\n",
            "('Ever had a terminated pregnancy 0.0', 'Drink Alcohol 0.0', 'Heard about family planning 1.0') -> ('Smokes 0.0',)\n",
            "Confidence is: 0.9983870967741935\n",
            "\n",
            "\n",
            "('Ever had a terminated pregnancy 0.0', 'Size of Child at Birth 0.5', 'Place Of Residence 2.0') -> ('Drink Alcohol 0.0',)\n",
            "Confidence is: 0.9700598802395209\n",
            "\n",
            "\n",
            "('Highest Education Level 2.0', 'Size of Child at Birth 0.5') -> ('Smokes 0.0', 'Drink Alcohol 0.0')\n",
            "Confidence is: 0.980836236933798\n",
            "\n",
            "\n",
            "('Smokes 0.0', 'Highest Education Level 2.0', 'Size of Child at Birth 0.5') -> ('Drink Alcohol 0.0',)\n",
            "Confidence is: 0.9842657342657343\n",
            "\n",
            "\n",
            "('Drink Alcohol 0.0', 'Highest Education Level 2.0', 'Size of Child at Birth 0.5') -> ('Smokes 0.0',)\n",
            "Confidence is: 0.9964601769911504\n",
            "\n",
            "\n",
            "('Ever had a terminated pregnancy 0.0', 'Size of Child at Birth 0.5', 'Place Of Residence 2.0') -> ('Smokes 0.0',)\n",
            "Confidence is: 0.9955089820359281\n",
            "\n",
            "\n",
            "('Ever had a terminated pregnancy 0.0', 'Place Of Residence 2.0') -> ('Smokes 0.0', 'Drink Alcohol 0.0')\n",
            "Confidence is: 0.9635535307517085\n",
            "\n",
            "\n",
            "('Smokes 0.0', 'Ever had a terminated pregnancy 0.0', 'Place Of Residence 2.0') -> ('Drink Alcohol 0.0',)\n",
            "Confidence is: 0.9679633867276888\n",
            "\n",
            "\n",
            "('Ever had a terminated pregnancy 0.0', 'Drink Alcohol 0.0', 'Place Of Residence 2.0') -> ('Smokes 0.0',)\n",
            "Confidence is: 0.9964664310954063\n",
            "\n",
            "\n",
            "('Ever had a terminated pregnancy 0.0', 'Highest Education Level 2.0') -> ('Smokes 0.0', 'Drink Alcohol 0.0')\n",
            "Confidence is: 0.9824561403508772\n",
            "\n",
            "\n",
            "('Smokes 0.0', 'Ever had a terminated pregnancy 0.0', 'Highest Education Level 2.0') -> ('Drink Alcohol 0.0',)\n",
            "Confidence is: 0.9856\n",
            "\n",
            "\n",
            "('Ever had a terminated pregnancy 0.0', 'Drink Alcohol 0.0', 'Highest Education Level 2.0') -> ('Smokes 0.0',)\n",
            "Confidence is: 0.9967637540453075\n",
            "\n",
            "\n",
            "('Ever had a terminated pregnancy 0.0', 'Size of Child at Birth 0.5') -> ('Smokes 0.0', 'Drink Alcohol 0.0')\n",
            "Confidence is: 0.9702517162471395\n",
            "\n",
            "\n",
            "('Smokes 0.0', 'Ever had a terminated pregnancy 0.0', 'Size of Child at Birth 0.5') -> ('Drink Alcohol 0.0',)\n",
            "Confidence is: 0.9735935706084959\n",
            "\n",
            "\n",
            "('Ever had a terminated pregnancy 0.0', 'Drink Alcohol 0.0', 'Size of Child at Birth 0.5') -> ('Smokes 0.0',)\n",
            "Confidence is: 0.9964747356051704\n",
            "\n",
            "\n",
            "('Ever had a terminated pregnancy 0.0', 'Size of Child at Birth 0.5', 'Place Of Residence 2.0') -> ('Smokes 0.0', 'Drink Alcohol 0.0')\n",
            "Confidence is: 0.9655688622754491\n",
            "\n",
            "\n",
            "('Ever had a terminated pregnancy 0.0', 'Drink Alcohol 0.0', 'Size of Child at Birth 0.5', 'Place Of Residence 2.0') -> ('Smokes 0.0',)\n",
            "Confidence is: 0.9953703703703705\n",
            "\n",
            "\n",
            "('Smokes 0.0', 'Ever had a terminated pregnancy 0.0', 'Size of Child at Birth 0.5', 'Place Of Residence 2.0') -> ('Drink Alcohol 0.0',)\n",
            "Confidence is: 0.9699248120300753\n",
            "\n",
            "\n"
          ]
        }
      ]
    },
    {
      "cell_type": "markdown",
      "source": [
        "# <font size=6>Data Analysis: Regression Analysis (OLS Regression)</font>"
      ],
      "metadata": {
        "id": "w4wpdvWU0pdH"
      }
    },
    {
      "cell_type": "code",
      "source": [
        "df = pd.read_csv('working_dataset.csv')\n",
        "df.columns = new_column_names\n",
        "df5 = df[attributes_child_health]"
      ],
      "metadata": {
        "id": "4dVwYfDkOT75"
      },
      "execution_count": null,
      "outputs": []
    },
    {
      "cell_type": "code",
      "source": [
        "# columns related to child health\n",
        "df5.columns"
      ],
      "metadata": {
        "colab": {
          "base_uri": "https://localhost:8080/"
        },
        "id": "g-OlrERLOm92",
        "outputId": "8bef2e06-35d8-4f58-85ca-fbc436bc04f0"
      },
      "execution_count": null,
      "outputs": [
        {
          "output_type": "execute_result",
          "data": {
            "text/plain": [
              "Index(['State', 'Place Of Residence', 'Highest Education Level',\n",
              "       'Wealth Index Combined', 'Total Children Born',\n",
              "       'Size of Child at Birth', 'Drink Alcohol', 'Smokes', 'Anemia Level',\n",
              "       'Ever had a terminated pregnancy', 'Age of Respondant at first birth',\n",
              "       'Heard about family planning', 'Zone'],\n",
              "      dtype='object')"
            ]
          },
          "metadata": {},
          "execution_count": 45
        }
      ]
    },
    {
      "cell_type": "code",
      "source": [
        "# Creating array of independent and dependent variables from the above dataset\n",
        "from os import XATTR_REPLACE\n",
        "import statsmodels.api as sm\n",
        "X = df5.copy(deep='True')\n",
        "# X: independent variable\n",
        "X = X.drop(columns = ['Heard about family planning','Zone'])\n",
        "df6 = X\n",
        "Xcpy = X.copy(deep= 'True')\n",
        "#y: dependent variable\n",
        "y = df5['Heard about family planning']\n",
        "\n",
        "#convert to numpy\n",
        "y=y.values\n",
        "X=X.values"
      ],
      "metadata": {
        "id": "cwgRy6tcOsA8"
      },
      "execution_count": null,
      "outputs": []
    },
    {
      "cell_type": "code",
      "source": [
        "df6.columns"
      ],
      "metadata": {
        "colab": {
          "base_uri": "https://localhost:8080/"
        },
        "id": "B8qpMEBEOrm6",
        "outputId": "68964a49-3a9e-499e-98f3-befd991c7466"
      },
      "execution_count": null,
      "outputs": [
        {
          "output_type": "execute_result",
          "data": {
            "text/plain": [
              "Index(['State', 'Place Of Residence', 'Highest Education Level',\n",
              "       'Wealth Index Combined', 'Total Children Born',\n",
              "       'Size of Child at Birth', 'Drink Alcohol', 'Smokes', 'Anemia Level',\n",
              "       'Ever had a terminated pregnancy', 'Age of Respondant at first birth'],\n",
              "      dtype='object')"
            ]
          },
          "metadata": {},
          "execution_count": 47
        }
      ]
    },
    {
      "cell_type": "code",
      "source": [
        "# All variables Regression Results\n",
        "X2 = sm.add_constant(X)\n",
        "est = sm.OLS(y, X2)\n",
        "est2 = est.fit()\n",
        "print(est2.summary())"
      ],
      "metadata": {
        "colab": {
          "base_uri": "https://localhost:8080/"
        },
        "id": "LEhzaW2rO1Af",
        "outputId": "d0788bbd-4d05-4bb2-9378-2f05ffd6d7a9"
      },
      "execution_count": null,
      "outputs": [
        {
          "output_type": "stream",
          "name": "stdout",
          "text": [
            "                            OLS Regression Results                            \n",
            "==============================================================================\n",
            "Dep. Variable:                      y   R-squared:                       0.110\n",
            "Model:                            OLS   Adj. R-squared:                  0.103\n",
            "Method:                 Least Squares   F-statistic:                     15.04\n",
            "Date:                Tue, 02 May 2023   Prob (F-statistic):           6.90e-28\n",
            "Time:                        12:34:04   Log-Likelihood:                -895.40\n",
            "No. Observations:                1350   AIC:                             1815.\n",
            "Df Residuals:                    1338   BIC:                             1877.\n",
            "Df Model:                          11                                         \n",
            "Covariance Type:            nonrobust                                         \n",
            "==============================================================================\n",
            "                 coef    std err          t      P>|t|      [0.025      0.975]\n",
            "------------------------------------------------------------------------------\n",
            "const          0.4370      0.126      3.473      0.001       0.190       0.684\n",
            "x1          5.678e-05      0.001      0.042      0.967      -0.003       0.003\n",
            "x2             0.0513      0.033      1.561      0.119      -0.013       0.116\n",
            "x3             0.0322      0.017      1.880      0.060      -0.001       0.066\n",
            "x4             0.3982      0.047      8.488      0.000       0.306       0.490\n",
            "x5            -0.0280      0.012     -2.364      0.018      -0.051      -0.005\n",
            "x6            -0.1280      0.075     -1.710      0.087      -0.275       0.019\n",
            "x7            -0.0987      0.080     -1.234      0.217      -0.256       0.058\n",
            "x8             0.0977      0.238      0.411      0.681      -0.369       0.564\n",
            "x9            -0.0032      0.010     -0.314      0.754      -0.023       0.017\n",
            "x10           -0.0562      0.036     -1.569      0.117      -0.127       0.014\n",
            "x11           -0.0036      0.004     -0.990      0.323      -0.011       0.004\n",
            "==============================================================================\n",
            "Omnibus:                     8849.912   Durbin-Watson:                   1.808\n",
            "Prob(Omnibus):                  0.000   Jarque-Bera (JB):              136.438\n",
            "Skew:                          -0.181   Prob(JB):                     2.36e-30\n",
            "Kurtosis:                       1.485   Cond. No.                         525.\n",
            "==============================================================================\n",
            "\n",
            "Notes:\n",
            "[1] Standard Errors assume that the covariance matrix of the errors is correctly specified.\n"
          ]
        }
      ]
    },
    {
      "cell_type": "code",
      "source": [
        "# Removing Variables with p-values higher than 0.05 (threshold)\n",
        "Xcpy.drop(Xcpy.columns[[0,6,7,8,10]],axis=1,inplace=True)"
      ],
      "metadata": {
        "id": "pM64cZmTPG99"
      },
      "execution_count": null,
      "outputs": []
    },
    {
      "cell_type": "code",
      "source": [
        "# final list of independent variables\n",
        "Xcpy.columns"
      ],
      "metadata": {
        "colab": {
          "base_uri": "https://localhost:8080/"
        },
        "id": "IeAbnV6YPUGS",
        "outputId": "b0bbc3a8-d87a-4308-9bad-6177a503c1bc"
      },
      "execution_count": null,
      "outputs": [
        {
          "output_type": "execute_result",
          "data": {
            "text/plain": [
              "Index(['Place Of Residence', 'Highest Education Level',\n",
              "       'Wealth Index Combined', 'Total Children Born',\n",
              "       'Size of Child at Birth', 'Ever had a terminated pregnancy'],\n",
              "      dtype='object')"
            ]
          },
          "metadata": {},
          "execution_count": 50
        }
      ]
    },
    {
      "cell_type": "code",
      "source": [
        "X = Xcpy.copy(deep = 'True')\n",
        "X = X.values"
      ],
      "metadata": {
        "id": "tCDB6H85PV-o"
      },
      "execution_count": null,
      "outputs": []
    },
    {
      "cell_type": "code",
      "source": [
        "# Selected variables Regression Results\n",
        "X2 = sm.add_constant(X)\n",
        "est = sm.OLS(y, X2)\n",
        "est2 = est.fit()\n",
        "print(est2.summary())"
      ],
      "metadata": {
        "colab": {
          "base_uri": "https://localhost:8080/"
        },
        "id": "omNfSQnyPg3K",
        "outputId": "41a609ee-9327-4a9e-96c0-d22cb24183dd"
      },
      "execution_count": null,
      "outputs": [
        {
          "output_type": "stream",
          "name": "stdout",
          "text": [
            "                            OLS Regression Results                            \n",
            "==============================================================================\n",
            "Dep. Variable:                      y   R-squared:                       0.108\n",
            "Model:                            OLS   Adj. R-squared:                  0.104\n",
            "Method:                 Least Squares   F-statistic:                     27.15\n",
            "Date:                Tue, 02 May 2023   Prob (F-statistic):           1.13e-30\n",
            "Time:                        12:34:04   Log-Likelihood:                -896.83\n",
            "No. Observations:                1350   AIC:                             1808.\n",
            "Df Residuals:                    1343   BIC:                             1844.\n",
            "Df Model:                           6                                         \n",
            "Covariance Type:            nonrobust                                         \n",
            "==============================================================================\n",
            "                 coef    std err          t      P>|t|      [0.025      0.975]\n",
            "------------------------------------------------------------------------------\n",
            "const          0.3433      0.087      3.928      0.000       0.172       0.515\n",
            "x1             0.0507      0.033      1.552      0.121      -0.013       0.115\n",
            "x2             0.0324      0.017      1.919      0.055      -0.001       0.065\n",
            "x3             0.3950      0.046      8.563      0.000       0.305       0.486\n",
            "x4            -0.0256      0.012     -2.216      0.027      -0.048      -0.003\n",
            "x5            -0.1254      0.074     -1.683      0.093      -0.271       0.021\n",
            "x6            -0.0569      0.036     -1.589      0.112      -0.127       0.013\n",
            "==============================================================================\n",
            "Omnibus:                     8738.308   Durbin-Watson:                   1.808\n",
            "Prob(Omnibus):                  0.000   Jarque-Bera (JB):              137.128\n",
            "Skew:                          -0.180   Prob(JB):                     1.67e-30\n",
            "Kurtosis:                       1.481   Cond. No.                         28.9\n",
            "==============================================================================\n",
            "\n",
            "Notes:\n",
            "[1] Standard Errors assume that the covariance matrix of the errors is correctly specified.\n"
          ]
        }
      ]
    }
  ]
}